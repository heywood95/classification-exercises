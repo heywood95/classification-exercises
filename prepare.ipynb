{
 "cells": [
  {
   "cell_type": "code",
   "execution_count": 3,
   "id": "700314c9",
   "metadata": {},
   "outputs": [],
   "source": [
    "import env\n",
    "import pandas as pd\n",
    "import os\n",
    "import seaborn as sns\n",
    "import numpy as np\n",
    "from pydataset import data\n",
    "from env import get_connection\n",
    "\n",
    "import matplotlib.pyplot as plt\n",
    "\n",
    "# import splitting and imputing functions\n",
    "from sklearn.model_selection import train_test_split\n",
    "from sklearn.impute import SimpleImputer\n",
    "\n",
    "# turn off pink boxes for demo\n",
    "import warnings\n",
    "warnings.filterwarnings(\"ignore\")\n",
    "\n",
    "# import our own acquire module\n",
    "import acquire\n",
    "\n"
   ]
  },
  {
   "cell_type": "code",
   "execution_count": 4,
   "id": "e12fa3b4",
   "metadata": {},
   "outputs": [],
   "source": [
    "iris = acquire.get_iris_data()"
   ]
  },
  {
   "cell_type": "code",
   "execution_count": 5,
   "id": "6c37328d",
   "metadata": {},
   "outputs": [],
   "source": [
    "cols_to_drop = ['Unnamed: 0', 'measurement_id', 'species_id', 'species_id.1']\n",
    "iris = iris.drop(columns=cols_to_drop)"
   ]
  },
  {
   "cell_type": "code",
   "execution_count": 6,
   "id": "eaa59692",
   "metadata": {},
   "outputs": [],
   "source": [
    "iris.rename(columns = {'species_name': 'species'}, inplace=True)"
   ]
  },
  {
   "cell_type": "code",
   "execution_count": 7,
   "id": "d2a4bc02",
   "metadata": {},
   "outputs": [],
   "source": [
    "dummy_iris = pd.get_dummies(iris.species, drop_first=True)\n",
    "iris = pd.concat([iris, dummy_iris], axis=1)"
   ]
  },
  {
   "cell_type": "code",
   "execution_count": 8,
   "id": "2b3cc95c",
   "metadata": {},
   "outputs": [],
   "source": [
    "def prep_iris(iris):\n",
    "    \n",
    "    cols_to_drop = ['Unnamed: 0', 'measurement_id', 'species_id', 'species_id.1']\n",
    "    iris = iris.drop(columns=cols_to_drop)\n",
    "    iris.rename(columns = {'species_name': 'species'}, inplace=True)\n",
    "    dummy_iris = pd.get_dummies(iris.species, drop_first=True)\n",
    "    iris = pd.concat([iris, dummy_iris], axis=1)\n",
    "    \n",
    "    return iris"
   ]
  },
  {
   "cell_type": "code",
   "execution_count": 9,
   "id": "be35b662",
   "metadata": {},
   "outputs": [],
   "source": [
    "titanic = acquire.get_titanic_data()"
   ]
  },
  {
   "cell_type": "code",
   "execution_count": 10,
   "id": "b7e51536",
   "metadata": {},
   "outputs": [],
   "source": [
    "cols_to_drop = ['deck', 'embarked', 'class', 'age']\n",
    "titanic = titanic.drop(columns=cols_to_drop)"
   ]
  },
  {
   "cell_type": "code",
   "execution_count": 11,
   "id": "c9b0976e",
   "metadata": {},
   "outputs": [],
   "source": [
    "dummy_titanic = pd.get_dummies(titanic[['sex','embark_town']], dummy_na=False, drop_first=[True, True])\n",
    "titanic = pd.concat([titanic, dummy_titanic], axis=1)"
   ]
  },
  {
   "cell_type": "code",
   "execution_count": 12,
   "id": "4fd2b7f8",
   "metadata": {},
   "outputs": [],
   "source": [
    "def prep_titanic(df):\n",
    "    \n",
    "    cols_to_drop = ['deck', 'embarked', 'class', 'age']\n",
    "    titanic = titanic.drop(columns=cols_to_drop)\n",
    "    dummy_titanic = pd.get_dummies(titanic[['sex','embark_town']], dummy_na=False, drop_first=[True, True])\n",
    "    titanic = pd.concat([titanic, dummy_titanic], axis=1)\n",
    "    titanic.dropna()\n",
    "    return titanic"
   ]
  },
  {
   "cell_type": "code",
   "execution_count": 13,
   "id": "ca0743ae",
   "metadata": {},
   "outputs": [],
   "source": [
    "telco = acquire.get_telco_data()"
   ]
  },
  {
   "cell_type": "code",
   "execution_count": 14,
   "id": "77fdb839",
   "metadata": {},
   "outputs": [],
   "source": [
    "cols_to_drop = ['contract_type_id', 'internet_service_type_id', 'payment_type_id']\n",
    "telco = telco.drop(columns=cols_to_drop)"
   ]
  },
  {
   "cell_type": "code",
   "execution_count": 15,
   "id": "e20f49f4",
   "metadata": {},
   "outputs": [],
   "source": [
    "dummy_telco = pd.get_dummies(telco[['gender','partner', 'dependents', 'phone_service', 'multiple_lines', 'online_security', 'online_backup', 'tech_support', 'streaming_tv', 'streaming_movies', 'paperless_billing', 'churn']], dummy_na=False, drop_first=[True, True])\n",
    "telco = pd.concat([telco, dummy_telco], axis=1)"
   ]
  },
  {
   "cell_type": "code",
   "execution_count": 16,
   "id": "e24513f1",
   "metadata": {},
   "outputs": [],
   "source": [
    "def prep_telco(telco):\n",
    "    \n",
    "    cols_to_drop = ['contract_type_id', 'internet_service_type_id', 'payment_type_id']\n",
    "    telco = telco.drop(columns=cols_to_drop)\n",
    "    dummy_telco = pd.get_dummies(telco[['gender','partner', 'dependents', 'phone_service', 'multiple_lines', 'online_security', 'online_backup', 'tech_support', 'streaming_tv', 'streaming_movies', 'paperless_billing', 'churn']], dummy_na=False, drop_first=[True, True])\n",
    "    telco = pd.concat([telco, dummy_telco], axis=1)\n",
    "    return telco"
   ]
  },
  {
   "cell_type": "code",
   "execution_count": 17,
   "id": "83dd1d60",
   "metadata": {},
   "outputs": [],
   "source": [
    "train, test = train_test_split(telco, \n",
    "                               train_size = 0.8,\n",
    "                               random_state=42,\n",
    "                              stratify=telco.churn)"
   ]
  },
  {
   "cell_type": "code",
   "execution_count": 18,
   "id": "e0d7c2c1",
   "metadata": {},
   "outputs": [],
   "source": [
    "train, val = train_test_split(train,\n",
    "                             train_size = 0.7,\n",
    "                             random_state=42,\n",
    "                             stratify=train.churn)"
   ]
  },
  {
   "cell_type": "code",
   "execution_count": 19,
   "id": "06f6f20c",
   "metadata": {},
   "outputs": [],
   "source": [
    "def split_data(df, target=''):\n",
    "    \n",
    "    train, test = train_test_split(df, \n",
    "                               train_size = 0.8,\n",
    "                               random_state=1349,\n",
    "                              stratify=df[target])\n",
    "    train, val = train_test_split(train,\n",
    "                             train_size = 0.7,\n",
    "                             random_state=1349,\n",
    "                             stratify=train[target])\n",
    "    return train, val, test\n"
   ]
  },
  {
   "cell_type": "code",
   "execution_count": 20,
   "id": "01c235dc",
   "metadata": {},
   "outputs": [],
   "source": [
    "iris = acquire.get_iris_data()"
   ]
  },
  {
   "cell_type": "code",
   "execution_count": 21,
   "id": "d183ef4e",
   "metadata": {},
   "outputs": [],
   "source": [
    "train, validate, test = split_data(iris, target='species_name')"
   ]
  },
  {
   "cell_type": "code",
   "execution_count": 22,
   "id": "6ecc2494",
   "metadata": {},
   "outputs": [
    {
     "data": {
      "text/plain": [
       "(2259, 981, 810)"
      ]
     },
     "execution_count": 22,
     "metadata": {},
     "output_type": "execute_result"
    }
   ],
   "source": [
    "train.size, validate.size, test.size"
   ]
  },
  {
   "cell_type": "code",
   "execution_count": 23,
   "id": "b1da4c87",
   "metadata": {},
   "outputs": [],
   "source": [
    "titanic_train, titanic_val, titanic_test = split_data(\n",
    "titanic, target='survived')"
   ]
  },
  {
   "cell_type": "code",
   "execution_count": 24,
   "id": "a7f25ced",
   "metadata": {},
   "outputs": [
    {
     "data": {
      "text/plain": [
       "(6474, 2782, 2327)"
      ]
     },
     "execution_count": 24,
     "metadata": {},
     "output_type": "execute_result"
    }
   ],
   "source": [
    "titanic_train.size, titanic_val.size, titanic_test.size"
   ]
  },
  {
   "cell_type": "code",
   "execution_count": 25,
   "id": "0d209a45",
   "metadata": {},
   "outputs": [],
   "source": [
    "telco_train, telco_val, telco_test = split_data(\n",
    "telco, target='churn')"
   ]
  },
  {
   "cell_type": "code",
   "execution_count": 26,
   "id": "1e2372bc",
   "metadata": {},
   "outputs": [
    {
     "data": {
      "text/plain": [
       "(6105398, 2616636, 2180530)"
      ]
     },
     "execution_count": 26,
     "metadata": {},
     "output_type": "execute_result"
    }
   ],
   "source": [
    "telco_train.size, telco_val.size, telco_test.size"
   ]
  },
  {
   "cell_type": "code",
   "execution_count": null,
   "id": "34a5e2d3",
   "metadata": {},
   "outputs": [],
   "source": []
  }
 ],
 "metadata": {
  "kernelspec": {
   "display_name": "Python 3 (ipykernel)",
   "language": "python",
   "name": "python3"
  },
  "language_info": {
   "codemirror_mode": {
    "name": "ipython",
    "version": 3
   },
   "file_extension": ".py",
   "mimetype": "text/x-python",
   "name": "python",
   "nbconvert_exporter": "python",
   "pygments_lexer": "ipython3",
   "version": "3.9.13"
  }
 },
 "nbformat": 4,
 "nbformat_minor": 5
}
