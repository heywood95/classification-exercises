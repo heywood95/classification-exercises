{
 "cells": [
  {
   "cell_type": "markdown",
   "id": "3166d37f",
   "metadata": {},
   "source": [
    "# Exercises - Logistic Regression\n",
    "\n",
    "In these exercises, we'll continue working with the titanic dataset and building logistic regression models. Throughout this exercise, be sure you are training, evaluation, and comparing models on the train and validate datasets. The test dataset should only be used for your final model.  \n",
    "\n",
    "For all of the models you create, choose a threshold that optimizes for accuracy.  \n",
    "\n",
    "Create a new notebook, logistic_regression, use it to answer the following questions:  "
   ]
  },
  {
   "cell_type": "code",
   "execution_count": 108,
   "id": "1ab75b3f",
   "metadata": {},
   "outputs": [
    {
     "data": {
      "text/html": [
       "<div>\n",
       "<style scoped>\n",
       "    .dataframe tbody tr th:only-of-type {\n",
       "        vertical-align: middle;\n",
       "    }\n",
       "\n",
       "    .dataframe tbody tr th {\n",
       "        vertical-align: top;\n",
       "    }\n",
       "\n",
       "    .dataframe thead th {\n",
       "        text-align: right;\n",
       "    }\n",
       "</style>\n",
       "<table border=\"1\" class=\"dataframe\">\n",
       "  <thead>\n",
       "    <tr style=\"text-align: right;\">\n",
       "      <th></th>\n",
       "      <th>passenger_id</th>\n",
       "      <th>survived</th>\n",
       "      <th>pclass</th>\n",
       "      <th>sex</th>\n",
       "      <th>age</th>\n",
       "      <th>sibsp</th>\n",
       "      <th>parch</th>\n",
       "      <th>fare</th>\n",
       "      <th>embarked</th>\n",
       "      <th>class</th>\n",
       "      <th>deck</th>\n",
       "      <th>embark_town</th>\n",
       "      <th>alone</th>\n",
       "    </tr>\n",
       "  </thead>\n",
       "  <tbody>\n",
       "    <tr>\n",
       "      <th>0</th>\n",
       "      <td>0</td>\n",
       "      <td>0</td>\n",
       "      <td>3</td>\n",
       "      <td>male</td>\n",
       "      <td>22.0</td>\n",
       "      <td>1</td>\n",
       "      <td>0</td>\n",
       "      <td>7.2500</td>\n",
       "      <td>S</td>\n",
       "      <td>Third</td>\n",
       "      <td>None</td>\n",
       "      <td>Southampton</td>\n",
       "      <td>0</td>\n",
       "    </tr>\n",
       "    <tr>\n",
       "      <th>1</th>\n",
       "      <td>1</td>\n",
       "      <td>1</td>\n",
       "      <td>1</td>\n",
       "      <td>female</td>\n",
       "      <td>38.0</td>\n",
       "      <td>1</td>\n",
       "      <td>0</td>\n",
       "      <td>71.2833</td>\n",
       "      <td>C</td>\n",
       "      <td>First</td>\n",
       "      <td>C</td>\n",
       "      <td>Cherbourg</td>\n",
       "      <td>0</td>\n",
       "    </tr>\n",
       "  </tbody>\n",
       "</table>\n",
       "</div>"
      ],
      "text/plain": [
       "   passenger_id  survived  pclass     sex   age  sibsp  parch     fare  \\\n",
       "0             0         0       3    male  22.0      1      0   7.2500   \n",
       "1             1         1       1  female  38.0      1      0  71.2833   \n",
       "\n",
       "  embarked  class  deck  embark_town  alone  \n",
       "0        S  Third  None  Southampton      0  \n",
       "1        C  First     C    Cherbourg      0  "
      ]
     },
     "execution_count": 108,
     "metadata": {},
     "output_type": "execute_result"
    }
   ],
   "source": [
    "import warnings\n",
    "warnings.filterwarnings(\"ignore\")\n",
    "\n",
    "import numpy as np\n",
    "\n",
    "from pydataset import data\n",
    "\n",
    "from sklearn.model_selection import train_test_split\n",
    "from sklearn.tree import DecisionTreeClassifier, plot_tree\n",
    "from sklearn.metrics import classification_report\n",
    "from sklearn.metrics import confusion_matrix\n",
    "from sklearn.ensemble import RandomForestClassifier\n",
    "from sklearn.neighbors import KNeighborsClassifier\n",
    "from sklearn.linear_model import LogisticRegression\n",
    "\n",
    "import matplotlib.pyplot as plt\n",
    "import seaborn as sns\n",
    "import pandas as pd\n",
    "\n",
    "import env\n",
    "\n",
    "def get_connection(db, username=env.username, host=env.host, password=env.password):\n",
    "    return f'mysql+pymysql://{username}:{password}@{host}/{db}'\n",
    "\n",
    "def get_titanic():\n",
    "    my_query=\"SELECT * FROM passengers\"\n",
    "    titanic = pd.read_sql(my_query, get_connection('titanic_db'))\n",
    "    return titanic\n",
    "\n",
    "titanic = get_titanic()\n",
    "titanic.head(2)\n"
   ]
  },
  {
   "cell_type": "code",
   "execution_count": 109,
   "id": "061ed4bb",
   "metadata": {},
   "outputs": [],
   "source": [
    "def prep_titanic(df):\n",
    "    \n",
    "    cols_to_drop = ['deck', 'embarked', 'class']\n",
    "    titanic = df.drop(columns=cols_to_drop)\n",
    "    dummy_titanic = pd.get_dummies(titanic[['sex','embark_town']], dummy_na=False, drop_first=[True, True])\n",
    "    titanic = pd.concat([titanic, dummy_titanic], axis=1)\n",
    "    titanic.dropna()\n",
    "    return titanic"
   ]
  },
  {
   "cell_type": "code",
   "execution_count": 110,
   "id": "6a7068e1",
   "metadata": {},
   "outputs": [],
   "source": [
    "titanic = prep_titanic(titanic)"
   ]
  },
  {
   "cell_type": "code",
   "execution_count": 118,
   "id": "f0db2d10",
   "metadata": {},
   "outputs": [],
   "source": [
    "cols_to_drop = ['sex', 'embark_town']\n",
    "titanic = titanic.drop(columns=cols_to_drop)"
   ]
  },
  {
   "cell_type": "code",
   "execution_count": 119,
   "id": "b90a1ec7",
   "metadata": {},
   "outputs": [],
   "source": [
    "def train_val_test(df, target, seed=42):\n",
    "    \n",
    "    train, val_test = train_test_split(df, train_size=0.7, random_state=seed, stratify=df[target])\n",
    "    \n",
    "    val, test = train_test_split(val_test, train_size=0.5, random_state=seed, stratify=val_test[target])\n",
    "    \n",
    "    return train, val, test"
   ]
  },
  {
   "cell_type": "code",
   "execution_count": 120,
   "id": "4c22a15a",
   "metadata": {},
   "outputs": [
    {
     "data": {
      "text/plain": [
       "((623, 11), (134, 11), (134, 11))"
      ]
     },
     "execution_count": 120,
     "metadata": {},
     "output_type": "execute_result"
    }
   ],
   "source": [
    "train, val, test = train_val_test(titanic, 'survived')\n",
    "train.shape, val.shape, test.shape"
   ]
  },
  {
   "cell_type": "code",
   "execution_count": 164,
   "id": "96ee054f",
   "metadata": {},
   "outputs": [],
   "source": [
    "X_train1 = train.drop(columns=['age', 'fare', 'pclass', 'survived'])\n",
    "y_train1 = train.survived\n",
    "\n",
    "X_val1 = val.drop(columns=['age', 'fare', 'pclass', 'survived'])\n",
    "y_val1 = val.survived\n",
    "\n",
    "X_test1 = test.drop(columns=['age', 'fare', 'pclass', 'survived'])\n",
    "y_test1 = test.survived\n",
    "\n"
   ]
  },
  {
   "cell_type": "markdown",
   "id": "666ce935",
   "metadata": {},
   "source": [
    "1. Create a model that includes only age, fare, and pclass. Does this model perform better than your baseline?"
   ]
  },
  {
   "cell_type": "code",
   "execution_count": 165,
   "id": "08734779",
   "metadata": {},
   "outputs": [
    {
     "name": "stdout",
     "output_type": "stream",
     "text": [
      "Baseline accuracy: 0.62\n"
     ]
    }
   ],
   "source": [
    "baseline = y_train1.mode()\n",
    "\n",
    "matches_baseline_prediction = (y_train1 == 0)\n",
    "\n",
    "baseline_accuracy = matches_baseline_prediction.mean()\n",
    "print(f\"Baseline accuracy: {round(baseline_accuracy, 2)}\")"
   ]
  },
  {
   "cell_type": "code",
   "execution_count": 123,
   "id": "1d61ff74",
   "metadata": {},
   "outputs": [],
   "source": [
    "logit1 = LogisticRegression(penalty='l1', random_state=42, solver='liblinear', max_iter=200)"
   ]
  },
  {
   "cell_type": "code",
   "execution_count": 166,
   "id": "e25ced06",
   "metadata": {},
   "outputs": [
    {
     "data": {
      "text/plain": [
       "LogisticRegression(max_iter=200, penalty='l1', random_state=42,\n",
       "                   solver='liblinear')"
      ]
     },
     "execution_count": 166,
     "metadata": {},
     "output_type": "execute_result"
    }
   ],
   "source": [
    "logit1.fit(X_train1, y_train1)"
   ]
  },
  {
   "cell_type": "code",
   "execution_count": 126,
   "id": "ed57f0ce",
   "metadata": {},
   "outputs": [
    {
     "name": "stdout",
     "output_type": "stream",
     "text": [
      "Coefficient: \n",
      " [[ 4.28586855e-04 -4.76054692e-01 -2.77127135e-01 -9.72335384e-01\n",
      "  -2.50437994e+00 -4.08317245e-01 -5.50082673e-01]]\n",
      "Intercept: \n",
      " [2.19542559]\n"
     ]
    }
   ],
   "source": [
    "print('Coefficient: \\n', logit1.coef_)\n",
    "print('Intercept: \\n', logit1.intercept_)"
   ]
  },
  {
   "cell_type": "code",
   "execution_count": 167,
   "id": "5d86c75c",
   "metadata": {},
   "outputs": [],
   "source": [
    "y_pred1 = logit1.predict(X_train1)\n"
   ]
  },
  {
   "cell_type": "code",
   "execution_count": 168,
   "id": "95f370d6",
   "metadata": {},
   "outputs": [],
   "source": [
    "y_pred_proba1 = logit1.predict_proba(X_train1)"
   ]
  },
  {
   "cell_type": "code",
   "execution_count": 169,
   "id": "2eab34c0",
   "metadata": {},
   "outputs": [
    {
     "name": "stdout",
     "output_type": "stream",
     "text": [
      "Accuracy of Logistic Regression classifier on training set: 0.79\n"
     ]
    }
   ],
   "source": [
    "print('Accuracy of Logistic Regression classifier on training set: {:.2f}'\n",
    "     .format(logit1.score(X_train1, y_train1)))"
   ]
  },
  {
   "cell_type": "code",
   "execution_count": 170,
   "id": "29e60788",
   "metadata": {},
   "outputs": [
    {
     "name": "stdout",
     "output_type": "stream",
     "text": [
      "[[335  49]\n",
      " [ 79 160]]\n"
     ]
    }
   ],
   "source": [
    "print(confusion_matrix(y_train1, y_pred1))"
   ]
  },
  {
   "cell_type": "code",
   "execution_count": 171,
   "id": "4cabf698",
   "metadata": {},
   "outputs": [
    {
     "name": "stdout",
     "output_type": "stream",
     "text": [
      "              precision    recall  f1-score   support\n",
      "\n",
      "           0       0.81      0.87      0.84       384\n",
      "           1       0.77      0.67      0.71       239\n",
      "\n",
      "    accuracy                           0.79       623\n",
      "   macro avg       0.79      0.77      0.78       623\n",
      "weighted avg       0.79      0.79      0.79       623\n",
      "\n"
     ]
    }
   ],
   "source": [
    "print(classification_report(y_train1, y_pred1))"
   ]
  },
  {
   "cell_type": "markdown",
   "id": "a3ff646f",
   "metadata": {},
   "source": [
    "2. Include sex in your model as well. Note that you'll need to encode or create a dummy variable of this feature before including it in a model."
   ]
  },
  {
   "cell_type": "code",
   "execution_count": 172,
   "id": "d7ef4c64",
   "metadata": {},
   "outputs": [],
   "source": [
    "X_train2 = train.drop(columns=['age', 'fare', 'pclass', 'sex_male', 'survived'])\n",
    "y_train2 = train.survived\n",
    "\n",
    "X_val2 = val.drop(columns=['age', 'fare', 'pclass', 'sex_male', 'survived'])\n",
    "y_val2 = val.survived\n",
    "\n",
    "X_test2 = test.drop(columns=['age', 'fare', 'pclass', 'sex_male', 'survived'])\n",
    "y_test2 = test.survived\n",
    "\n"
   ]
  },
  {
   "cell_type": "code",
   "execution_count": 173,
   "id": "a44b015d",
   "metadata": {},
   "outputs": [],
   "source": [
    "logit2 = LogisticRegression(penalty='l1', random_state=42, solver='liblinear', max_iter=200)"
   ]
  },
  {
   "cell_type": "code",
   "execution_count": 174,
   "id": "08a00a42",
   "metadata": {},
   "outputs": [
    {
     "data": {
      "text/plain": [
       "LogisticRegression(max_iter=200, penalty='l1', random_state=42,\n",
       "                   solver='liblinear')"
      ]
     },
     "execution_count": 174,
     "metadata": {},
     "output_type": "execute_result"
    }
   ],
   "source": [
    "logit2.fit(X_train2, y_train2)"
   ]
  },
  {
   "cell_type": "code",
   "execution_count": 175,
   "id": "f29579f8",
   "metadata": {},
   "outputs": [
    {
     "name": "stdout",
     "output_type": "stream",
     "text": [
      "Coefficient: \n",
      " [[ 2.43633998e-04 -5.05878337e-01  0.00000000e+00 -1.40445403e+00\n",
      "  -1.03165834e-02 -7.02686284e-01]]\n",
      "Intercept: \n",
      " [0.98009446]\n"
     ]
    }
   ],
   "source": [
    "print('Coefficient: \\n', logit2.coef_)\n",
    "print('Intercept: \\n', logit2.intercept_)"
   ]
  },
  {
   "cell_type": "code",
   "execution_count": 176,
   "id": "6dd74d13",
   "metadata": {},
   "outputs": [],
   "source": [
    "y_pred2 = logit2.predict(X_train2)"
   ]
  },
  {
   "cell_type": "code",
   "execution_count": 177,
   "id": "ef4bd0b7",
   "metadata": {},
   "outputs": [],
   "source": [
    "y_pred_proba2 = logit2.predict_proba(X_train2)"
   ]
  },
  {
   "cell_type": "code",
   "execution_count": 178,
   "id": "dfeab20f",
   "metadata": {},
   "outputs": [
    {
     "name": "stdout",
     "output_type": "stream",
     "text": [
      "Accuracy of Logistic Regression classifier on training set: 0.67\n"
     ]
    }
   ],
   "source": [
    "print('Accuracy of Logistic Regression classifier on training set: {:.2f}'\n",
    "     .format(logit2.score(X_train2, y_train2)))"
   ]
  },
  {
   "cell_type": "code",
   "execution_count": 179,
   "id": "e02b87fa",
   "metadata": {},
   "outputs": [
    {
     "data": {
      "text/plain": [
       "0.6709470304975923"
      ]
     },
     "execution_count": 179,
     "metadata": {},
     "output_type": "execute_result"
    }
   ],
   "source": [
    "logit2.score(X_train2, y_train2)"
   ]
  },
  {
   "cell_type": "code",
   "execution_count": 180,
   "id": "010d1b2d",
   "metadata": {},
   "outputs": [
    {
     "name": "stdout",
     "output_type": "stream",
     "text": [
      "[[353  31]\n",
      " [174  65]]\n"
     ]
    }
   ],
   "source": [
    "print(confusion_matrix(y_train2, y_pred2))"
   ]
  },
  {
   "cell_type": "code",
   "execution_count": 181,
   "id": "54788335",
   "metadata": {},
   "outputs": [
    {
     "name": "stdout",
     "output_type": "stream",
     "text": [
      "              precision    recall  f1-score   support\n",
      "\n",
      "           0       0.67      0.92      0.77       384\n",
      "           1       0.68      0.27      0.39       239\n",
      "\n",
      "    accuracy                           0.67       623\n",
      "   macro avg       0.67      0.60      0.58       623\n",
      "weighted avg       0.67      0.67      0.63       623\n",
      "\n"
     ]
    }
   ],
   "source": [
    "print(classification_report(y_train2, y_pred2))"
   ]
  },
  {
   "cell_type": "markdown",
   "id": "87d9586b",
   "metadata": {},
   "source": [
    "3. Try out other combinations of features and models."
   ]
  },
  {
   "cell_type": "code",
   "execution_count": 182,
   "id": "5eb9ca15",
   "metadata": {},
   "outputs": [],
   "source": [
    "X_train3 = train.drop(columns=['age', 'fare','survived'])\n",
    "y_train3 = train.survived\n",
    "\n",
    "X_val3 = val.drop(columns=['age', 'fare','survived'])\n",
    "y_val3 = val.survived\n",
    "\n",
    "X_test3 = test.drop(columns=['age', 'fare','survived'])\n",
    "y_test3 = test.survived\n"
   ]
  },
  {
   "cell_type": "code",
   "execution_count": 183,
   "id": "f23731b4",
   "metadata": {},
   "outputs": [],
   "source": [
    "logit3 = LogisticRegression(penalty='l1', random_state=42, solver='liblinear', max_iter=200)"
   ]
  },
  {
   "cell_type": "code",
   "execution_count": 184,
   "id": "0c253e36",
   "metadata": {},
   "outputs": [
    {
     "data": {
      "text/plain": [
       "LogisticRegression(max_iter=200, penalty='l1', random_state=42,\n",
       "                   solver='liblinear')"
      ]
     },
     "execution_count": 184,
     "metadata": {},
     "output_type": "execute_result"
    }
   ],
   "source": [
    "logit3.fit(X_train3, y_train3)"
   ]
  },
  {
   "cell_type": "code",
   "execution_count": 185,
   "id": "b97a5879",
   "metadata": {},
   "outputs": [
    {
     "name": "stdout",
     "output_type": "stream",
     "text": [
      "Coefficient: \n",
      " [[ 3.32449118e-04 -7.86546261e-01 -2.90631503e-01 -1.43048648e-01\n",
      "  -5.44991423e-01 -2.53902386e+00  5.84711443e-02 -3.36554011e-01]]\n",
      "Intercept: \n",
      " [3.45640635]\n"
     ]
    }
   ],
   "source": [
    "print('Coefficient: \\n', logit3.coef_)\n",
    "print('Intercept: \\n', logit3.intercept_)"
   ]
  },
  {
   "cell_type": "code",
   "execution_count": 186,
   "id": "2f97a31b",
   "metadata": {},
   "outputs": [],
   "source": [
    "y_pred3 = logit3.predict(X_train3)"
   ]
  },
  {
   "cell_type": "code",
   "execution_count": 187,
   "id": "a7b09034",
   "metadata": {},
   "outputs": [],
   "source": [
    "y_pred_proba3 = logit3.predict_proba(X_train3)"
   ]
  },
  {
   "cell_type": "code",
   "execution_count": 188,
   "id": "211e20e4",
   "metadata": {},
   "outputs": [
    {
     "name": "stdout",
     "output_type": "stream",
     "text": [
      "Accuracy of Logistic Regression classifier on training set: 0.80\n"
     ]
    }
   ],
   "source": [
    "print('Accuracy of Logistic Regression classifier on training set: {:.2f}'\n",
    "     .format(logit3.score(X_train3, y_train3)))"
   ]
  },
  {
   "cell_type": "code",
   "execution_count": 189,
   "id": "7640d70c",
   "metadata": {},
   "outputs": [
    {
     "data": {
      "text/plain": [
       "0.7993579454253612"
      ]
     },
     "execution_count": 189,
     "metadata": {},
     "output_type": "execute_result"
    }
   ],
   "source": [
    "logit3.score(X_train3, y_train3)"
   ]
  },
  {
   "cell_type": "code",
   "execution_count": 190,
   "id": "7d830f37",
   "metadata": {},
   "outputs": [
    {
     "name": "stdout",
     "output_type": "stream",
     "text": [
      "[[335  49]\n",
      " [ 76 163]]\n"
     ]
    }
   ],
   "source": [
    "print(confusion_matrix(y_train3, y_pred3))"
   ]
  },
  {
   "cell_type": "code",
   "execution_count": 191,
   "id": "90162b23",
   "metadata": {},
   "outputs": [
    {
     "name": "stdout",
     "output_type": "stream",
     "text": [
      "              precision    recall  f1-score   support\n",
      "\n",
      "           0       0.82      0.87      0.84       384\n",
      "           1       0.77      0.68      0.72       239\n",
      "\n",
      "    accuracy                           0.80       623\n",
      "   macro avg       0.79      0.78      0.78       623\n",
      "weighted avg       0.80      0.80      0.80       623\n",
      "\n"
     ]
    }
   ],
   "source": [
    "print(classification_report(y_train3, y_pred3))"
   ]
  },
  {
   "cell_type": "markdown",
   "id": "d56cb29a",
   "metadata": {},
   "source": [
    "4. Use you best 3 models to predict and evaluate on your validate sample.\n",
    "\n"
   ]
  },
  {
   "cell_type": "code",
   "execution_count": 193,
   "id": "b95dccfa",
   "metadata": {},
   "outputs": [
    {
     "name": "stdout",
     "output_type": "stream",
     "text": [
      "Model 1: solver = lbfgs\n",
      "Accuracy: 0.84\n",
      "[[74  8]\n",
      " [14 38]]\n",
      "              precision    recall  f1-score   support\n",
      "\n",
      "           0       0.84      0.90      0.87        82\n",
      "           1       0.83      0.73      0.78        52\n",
      "\n",
      "    accuracy                           0.84       134\n",
      "   macro avg       0.83      0.82      0.82       134\n",
      "weighted avg       0.84      0.84      0.83       134\n",
      "\n",
      "Model 2: solver = lbfgs\n",
      "Accuracy: 0.63\n",
      "[[72 10]\n",
      " [40 12]]\n",
      "              precision    recall  f1-score   support\n",
      "\n",
      "           0       0.64      0.88      0.74        82\n",
      "           1       0.55      0.23      0.32        52\n",
      "\n",
      "    accuracy                           0.63       134\n",
      "   macro avg       0.59      0.55      0.53       134\n",
      "weighted avg       0.61      0.63      0.58       134\n",
      "\n",
      "Model 3: solver = lbfgs\n",
      "Accuracy: 0.85\n",
      "[[75  7]\n",
      " [13 39]]\n",
      "              precision    recall  f1-score   support\n",
      "\n",
      "           0       0.85      0.91      0.88        82\n",
      "           1       0.85      0.75      0.80        52\n",
      "\n",
      "    accuracy                           0.85       134\n",
      "   macro avg       0.85      0.83      0.84       134\n",
      "weighted avg       0.85      0.85      0.85       134\n",
      "\n"
     ]
    }
   ],
   "source": [
    "y_pred1 = logit1.predict(X_val1)\n",
    "y_pred2 = logit2.predict(X_val2)\n",
    "y_pred3 = logit3.predict(X_val3)\n",
    "\n",
    "\n",
    "print(\"Model 1: solver = lbfgs\")\n",
    "\n",
    "print('Accuracy: {:.2f}'.format(logit1.score(X_val1, y_val1)))\n",
    "\n",
    "print(confusion_matrix(y_val1, y_pred1))\n",
    "\n",
    "print(classification_report(y_val1, y_pred1))\n",
    "\n",
    "print(\"Model 2: solver = lbfgs\")\n",
    "\n",
    "print('Accuracy: {:.2f}'.format(logit2.score(X_val2, y_val2)))\n",
    "\n",
    "print(confusion_matrix(y_val2, y_pred2))\n",
    "\n",
    "print(classification_report(y_val2, y_pred2))\n",
    "\n",
    "print(\"Model 3: solver = lbfgs\")\n",
    "\n",
    "print('Accuracy: {:.2f}'.format(logit3.score(X_val3, y_val3)))\n",
    "\n",
    "print(confusion_matrix(y_val3, y_pred3))\n",
    "\n",
    "print(classification_report(y_val3, y_pred3))"
   ]
  },
  {
   "cell_type": "markdown",
   "id": "4b203723",
   "metadata": {},
   "source": [
    "5. Choose you best model from the validation performation, and evaluate it on the test dataset. How do the performance metrics compare to validate? to train?"
   ]
  },
  {
   "cell_type": "code",
   "execution_count": 197,
   "id": "bf46400d",
   "metadata": {},
   "outputs": [
    {
     "name": "stdout",
     "output_type": "stream",
     "text": [
      "Model 3: solver = lbfgs\n",
      "Accuracy: 0.77\n",
      "[[70 13]\n",
      " [18 33]]\n",
      "              precision    recall  f1-score   support\n",
      "\n",
      "           0       0.80      0.84      0.82        83\n",
      "           1       0.72      0.65      0.68        51\n",
      "\n",
      "    accuracy                           0.77       134\n",
      "   macro avg       0.76      0.75      0.75       134\n",
      "weighted avg       0.77      0.77      0.77       134\n",
      "\n"
     ]
    }
   ],
   "source": [
    "y_pred3 = logit3.predict(X_test3)\n",
    "y_pred_proba3 = logit3.predict_proba(X_test3)\n",
    "\n",
    "print(\"Model 3: solver = lbfgs\")\n",
    "\n",
    "print('Accuracy: {:.2f}'.format(logit3.score(X_test3, y_test3)))\n",
    "\n",
    "print(confusion_matrix(y_test3, y_pred3))\n",
    "\n",
    "print(classification_report(y_test3, y_pred3))"
   ]
  },
  {
   "cell_type": "code",
   "execution_count": 198,
   "id": "6a23ecbc",
   "metadata": {},
   "outputs": [
    {
     "data": {
      "text/plain": [
       "<matplotlib.collections.PathCollection at 0x7ff0af3129a0>"
      ]
     },
     "execution_count": 198,
     "metadata": {},
     "output_type": "execute_result"
    },
    {
     "data": {
      "image/png": "[encoded data removed]",
      "text/plain": [
       "<Figure size 640x480 with 1 Axes>"
      ]
     },
     "metadata": {},
     "output_type": "display_data"
    }
   ],
   "source": [
    "y_pred_proba3 = np.array([i[1] for i in y_pred_proba3])\n",
    "fig = plt.figure()\n",
    "ax = fig.add_subplot(111)\n",
    "ax.scatter(y_pred_proba3, y_pred3)\n"
   ]
  },
  {
   "cell_type": "markdown",
   "id": "8dc5f8ca",
   "metadata": {},
   "source": [
    "The accuracy for train = .80, Valdiate = .85, Test = .77. From validate to test there is a .03 drop. "
   ]
  },
  {
   "cell_type": "code",
   "execution_count": null,
   "id": "33cb36a0",
   "metadata": {},
   "outputs": [],
   "source": []
  }
 ],
 "metadata": {
  "kernelspec": {
   "display_name": "Python 3 (ipykernel)",
   "language": "python",
   "name": "python3"
  },
  "language_info": {
   "codemirror_mode": {
    "name": "ipython",
    "version": 3
   },
   "file_extension": ".py",
   "mimetype": "text/x-python",
   "name": "python",
   "nbconvert_exporter": "python",
   "pygments_lexer": "ipython3",
   "version": "3.9.13"
  }
 },
 "nbformat": 4,
 "nbformat_minor": 5
}
