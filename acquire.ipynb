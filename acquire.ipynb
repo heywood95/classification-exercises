{
 "cells": [
  {
   "cell_type": "code",
   "execution_count": 5,
   "id": "c12bbeb5",
   "metadata": {},
   "outputs": [],
   "source": [
    "import seaborn as sns\n",
    "import numpy as np\n",
    "from pydataset import data\n",
    "\n",
    "import os\n",
    "import pandas as pd\n",
    "import env\n",
    "from env import get_connection"
   ]
  },
  {
   "cell_type": "code",
   "execution_count": 6,
   "id": "a2a740ff",
   "metadata": {},
   "outputs": [],
   "source": [
    "def get_titanic_data():\n",
    "\n",
    "    filename = \"titanic.csv\"\n",
    "\n",
    "    if os.path.isfile(filename):\n",
    "        return pd.read_csv(filename)\n",
    "    \n",
    "    else:\n",
    "        df_titanic = pd.read_sql('SELECT * FROM passengers', get_connection('titanic_db'))\n",
    "\n",
    "        \n",
    "        df_titanic.to_csv(filename)\n",
    "\n",
    "        \n",
    "        return df_titanic  "
   ]
  },
  {
   "cell_type": "code",
   "execution_count": 7,
   "id": "1c658500",
   "metadata": {},
   "outputs": [],
   "source": [
    "def get_iris_data():\n",
    "    filename = \"iris.csv\"\n",
    "\n",
    "    if os.path.isfile(filename):\n",
    "        return pd.read_csv(filename)\n",
    "    \n",
    "    else:\n",
    "        df_iris = pd.read_sql('SELECT * FROM measurements JOIN species', get_connection('iris_db'))\n",
    "\n",
    "        \n",
    "        df_iris.to_csv(filename)\n",
    "\n",
    "        \n",
    "        return df_iris  "
   ]
  },
  {
   "cell_type": "code",
   "execution_count": 8,
   "id": "4bad754f",
   "metadata": {},
   "outputs": [],
   "source": [
    "def get_telco_data():\n",
    "    filename = \"telco.csv\"\n",
    "\n",
    "    if os.path.isfile(filename):\n",
    "        return pd.read_csv(filename)\n",
    "    \n",
    "    else:\n",
    "        df_telco = pd.read_sql('SELECT * FROM customers JOIN contract_types JOIN internet_service_types JOIN payment_types', get_connection('telco_churn'))\n",
    "\n",
    "        \n",
    "        df_telco.to_csv(filename)\n",
    "\n",
    "        \n",
    "        return df_telco  "
   ]
  },
  {
   "cell_type": "code",
   "execution_count": null,
   "id": "e1088484",
   "metadata": {},
   "outputs": [],
   "source": []
  }
 ],
 "metadata": {
  "kernelspec": {
   "display_name": "Python 3 (ipykernel)",
   "language": "python",
   "name": "python3"
  },
  "language_info": {
   "codemirror_mode": {
    "name": "ipython",
    "version": 3
   },
   "file_extension": ".py",
   "mimetype": "text/x-python",
   "name": "python",
   "nbconvert_exporter": "python",
   "pygments_lexer": "ipython3",
   "version": "3.9.13"
  }
 },
 "nbformat": 4,
 "nbformat_minor": 5
}
