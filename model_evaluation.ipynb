{
 "cells": [
  {
   "cell_type": "markdown",
   "id": "eb290e82",
   "metadata": {},
   "source": [
    "# Exercises Model Evaluation"
   ]
  },
  {
   "cell_type": "markdown",
   "id": "c2fc0f4c",
   "metadata": {},
   "source": [
    "1. Create a new file named model_evaluation.py or model_evaluation.ipynb for these exercises."
   ]
  },
  {
   "cell_type": "markdown",
   "id": "1b21092b",
   "metadata": {},
   "source": [
    "2. Given the following confusion matrix, evaluate (by hand) the model's performance.\n",
    "\n",
    "|               | pred dog   | pred cat   |\n",
    "|:------------  |-----------:|-----------:|\n",
    "| actual dog    |         46 |         7  |\n",
    "| actual cat    |         13 |         34 |\n"
   ]
  },
  {
   "cell_type": "markdown",
   "id": "f45f0b7c",
   "metadata": {},
   "source": [
    "dog = positive class  \n",
    "cat = negative class"
   ]
  },
  {
   "cell_type": "code",
   "execution_count": 6,
   "id": "6b00253d",
   "metadata": {},
   "outputs": [
    {
     "data": {
      "text/plain": [
       "0.53"
      ]
     },
     "execution_count": 6,
     "metadata": {},
     "output_type": "execute_result"
    }
   ],
   "source": [
    "Accuracy = 53/(46+7+13+34)\n",
    "Accuracy"
   ]
  },
  {
   "cell_type": "code",
   "execution_count": 7,
   "id": "9954a6a5",
   "metadata": {},
   "outputs": [
    {
     "data": {
      "text/plain": [
       "0.7796610169491526"
      ]
     },
     "execution_count": 7,
     "metadata": {},
     "output_type": "execute_result"
    }
   ],
   "source": [
    "Precision = 46/(46+13)\n",
    "Precision"
   ]
  },
  {
   "cell_type": "code",
   "execution_count": 8,
   "id": "f6e7443d",
   "metadata": {},
   "outputs": [
    {
     "data": {
      "text/plain": [
       "0.575"
      ]
     },
     "execution_count": 8,
     "metadata": {},
     "output_type": "execute_result"
    }
   ],
   "source": [
    "Recall = 46/(46+34)\n",
    "Recall"
   ]
  },
  {
   "cell_type": "markdown",
   "id": "bc641534",
   "metadata": {},
   "source": [
    "- In the context of this problem, what is a false positive?"
   ]
  },
  {
   "cell_type": "markdown",
   "id": "03a1caa4",
   "metadata": {},
   "source": [
    "13 actual cat pred dog"
   ]
  },
  {
   "cell_type": "markdown",
   "id": "6061255b",
   "metadata": {},
   "source": [
    "- In the context of this problem, what is a false negative?"
   ]
  },
  {
   "cell_type": "markdown",
   "id": "4c026e82",
   "metadata": {},
   "source": [
    "34 actual cat pred cat"
   ]
  },
  {
   "cell_type": "markdown",
   "id": "02b9e4f4",
   "metadata": {},
   "source": [
    "- How would you describe this model?"
   ]
  },
  {
   "cell_type": "markdown",
   "id": "f9c3047a",
   "metadata": {},
   "source": [
    "Based on the small sample size, precision is the best evaluation metric to use in predicting a dog. "
   ]
  },
  {
   "cell_type": "markdown",
   "id": "f0db9603",
   "metadata": {},
   "source": [
    "3. You are working as a datascientist working for Codeup Cody Creator (C3 for short), a rubber-duck manufacturing plant.\n",
    "\n",
    "Unfortunately, some of the rubber ducks that are produced will have defects. Your team has built several models that try to predict those defects, and the data from their predictions can be found here.  \n",
    "\n",
    "Use the predictions dataset and pandas to help answer the following questions:  \n",
    "\n",
    "- An internal team wants to investigate the cause of the manufacturing defects. They tell you that they want to identify as many of the ducks that have a defect as possible. Which evaluation metric would be appropriate here? Which model would be the best fit for this use case?  \n",
    "\n",
    "A. Recall for the evaluation metric. It is better to flag a rubber duck as defective for review than it is to miss out on an actually defective rubber duck. Model 3 with 81.25% has the highest recall percentage and is the best fit."
   ]
  },
  {
   "cell_type": "code",
   "execution_count": 9,
   "id": "5f7adf9b",
   "metadata": {},
   "outputs": [],
   "source": [
    "import pandas as pd"
   ]
  },
  {
   "cell_type": "code",
   "execution_count": 10,
   "id": "bd5d4025",
   "metadata": {},
   "outputs": [
    {
     "data": {
      "text/html": [
       "<div>\n",
       "<style scoped>\n",
       "    .dataframe tbody tr th:only-of-type {\n",
       "        vertical-align: middle;\n",
       "    }\n",
       "\n",
       "    .dataframe tbody tr th {\n",
       "        vertical-align: top;\n",
       "    }\n",
       "\n",
       "    .dataframe thead th {\n",
       "        text-align: right;\n",
       "    }\n",
       "</style>\n",
       "<table border=\"1\" class=\"dataframe\">\n",
       "  <thead>\n",
       "    <tr style=\"text-align: right;\">\n",
       "      <th></th>\n",
       "      <th>actual</th>\n",
       "      <th>model1</th>\n",
       "      <th>model2</th>\n",
       "      <th>model3</th>\n",
       "    </tr>\n",
       "  </thead>\n",
       "  <tbody>\n",
       "    <tr>\n",
       "      <th>0</th>\n",
       "      <td>No Defect</td>\n",
       "      <td>No Defect</td>\n",
       "      <td>Defect</td>\n",
       "      <td>No Defect</td>\n",
       "    </tr>\n",
       "    <tr>\n",
       "      <th>1</th>\n",
       "      <td>No Defect</td>\n",
       "      <td>No Defect</td>\n",
       "      <td>Defect</td>\n",
       "      <td>Defect</td>\n",
       "    </tr>\n",
       "    <tr>\n",
       "      <th>2</th>\n",
       "      <td>No Defect</td>\n",
       "      <td>No Defect</td>\n",
       "      <td>Defect</td>\n",
       "      <td>No Defect</td>\n",
       "    </tr>\n",
       "    <tr>\n",
       "      <th>3</th>\n",
       "      <td>No Defect</td>\n",
       "      <td>Defect</td>\n",
       "      <td>Defect</td>\n",
       "      <td>Defect</td>\n",
       "    </tr>\n",
       "    <tr>\n",
       "      <th>4</th>\n",
       "      <td>No Defect</td>\n",
       "      <td>No Defect</td>\n",
       "      <td>Defect</td>\n",
       "      <td>No Defect</td>\n",
       "    </tr>\n",
       "  </tbody>\n",
       "</table>\n",
       "</div>"
      ],
      "text/plain": [
       "      actual     model1  model2     model3\n",
       "0  No Defect  No Defect  Defect  No Defect\n",
       "1  No Defect  No Defect  Defect     Defect\n",
       "2  No Defect  No Defect  Defect  No Defect\n",
       "3  No Defect     Defect  Defect     Defect\n",
       "4  No Defect  No Defect  Defect  No Defect"
      ]
     },
     "execution_count": 10,
     "metadata": {},
     "output_type": "execute_result"
    }
   ],
   "source": [
    "c3_df = pd.read_csv('c3.csv')\n",
    "c3_df.head()"
   ]
  },
  {
   "cell_type": "code",
   "execution_count": 11,
   "id": "abcefd1e",
   "metadata": {},
   "outputs": [
    {
     "data": {
      "text/html": [
       "<div>\n",
       "<style scoped>\n",
       "    .dataframe tbody tr th:only-of-type {\n",
       "        vertical-align: middle;\n",
       "    }\n",
       "\n",
       "    .dataframe tbody tr th {\n",
       "        vertical-align: top;\n",
       "    }\n",
       "\n",
       "    .dataframe thead th {\n",
       "        text-align: right;\n",
       "    }\n",
       "</style>\n",
       "<table border=\"1\" class=\"dataframe\">\n",
       "  <thead>\n",
       "    <tr style=\"text-align: right;\">\n",
       "      <th>model1</th>\n",
       "      <th>Defect</th>\n",
       "      <th>No Defect</th>\n",
       "    </tr>\n",
       "    <tr>\n",
       "      <th>actual</th>\n",
       "      <th></th>\n",
       "      <th></th>\n",
       "    </tr>\n",
       "  </thead>\n",
       "  <tbody>\n",
       "    <tr>\n",
       "      <th>Defect</th>\n",
       "      <td>8</td>\n",
       "      <td>8</td>\n",
       "    </tr>\n",
       "    <tr>\n",
       "      <th>No Defect</th>\n",
       "      <td>2</td>\n",
       "      <td>182</td>\n",
       "    </tr>\n",
       "  </tbody>\n",
       "</table>\n",
       "</div>"
      ],
      "text/plain": [
       "model1     Defect  No Defect\n",
       "actual                      \n",
       "Defect          8          8\n",
       "No Defect       2        182"
      ]
     },
     "execution_count": 11,
     "metadata": {},
     "output_type": "execute_result"
    }
   ],
   "source": [
    "pd.crosstab(c3_df.actual, c3_df.model1)"
   ]
  },
  {
   "cell_type": "code",
   "execution_count": 12,
   "id": "38277cbf",
   "metadata": {},
   "outputs": [
    {
     "data": {
      "text/html": [
       "<div>\n",
       "<style scoped>\n",
       "    .dataframe tbody tr th:only-of-type {\n",
       "        vertical-align: middle;\n",
       "    }\n",
       "\n",
       "    .dataframe tbody tr th {\n",
       "        vertical-align: top;\n",
       "    }\n",
       "\n",
       "    .dataframe thead th {\n",
       "        text-align: right;\n",
       "    }\n",
       "</style>\n",
       "<table border=\"1\" class=\"dataframe\">\n",
       "  <thead>\n",
       "    <tr style=\"text-align: right;\">\n",
       "      <th>model2</th>\n",
       "      <th>Defect</th>\n",
       "      <th>No Defect</th>\n",
       "    </tr>\n",
       "    <tr>\n",
       "      <th>actual</th>\n",
       "      <th></th>\n",
       "      <th></th>\n",
       "    </tr>\n",
       "  </thead>\n",
       "  <tbody>\n",
       "    <tr>\n",
       "      <th>Defect</th>\n",
       "      <td>9</td>\n",
       "      <td>7</td>\n",
       "    </tr>\n",
       "    <tr>\n",
       "      <th>No Defect</th>\n",
       "      <td>81</td>\n",
       "      <td>103</td>\n",
       "    </tr>\n",
       "  </tbody>\n",
       "</table>\n",
       "</div>"
      ],
      "text/plain": [
       "model2     Defect  No Defect\n",
       "actual                      \n",
       "Defect          9          7\n",
       "No Defect      81        103"
      ]
     },
     "execution_count": 12,
     "metadata": {},
     "output_type": "execute_result"
    }
   ],
   "source": [
    "pd.crosstab(c3_df.actual, c3_df.model2)"
   ]
  },
  {
   "cell_type": "code",
   "execution_count": 13,
   "id": "ec7eb7e8",
   "metadata": {},
   "outputs": [
    {
     "data": {
      "text/html": [
       "<div>\n",
       "<style scoped>\n",
       "    .dataframe tbody tr th:only-of-type {\n",
       "        vertical-align: middle;\n",
       "    }\n",
       "\n",
       "    .dataframe tbody tr th {\n",
       "        vertical-align: top;\n",
       "    }\n",
       "\n",
       "    .dataframe thead th {\n",
       "        text-align: right;\n",
       "    }\n",
       "</style>\n",
       "<table border=\"1\" class=\"dataframe\">\n",
       "  <thead>\n",
       "    <tr style=\"text-align: right;\">\n",
       "      <th>model3</th>\n",
       "      <th>Defect</th>\n",
       "      <th>No Defect</th>\n",
       "    </tr>\n",
       "    <tr>\n",
       "      <th>actual</th>\n",
       "      <th></th>\n",
       "      <th></th>\n",
       "    </tr>\n",
       "  </thead>\n",
       "  <tbody>\n",
       "    <tr>\n",
       "      <th>Defect</th>\n",
       "      <td>13</td>\n",
       "      <td>3</td>\n",
       "    </tr>\n",
       "    <tr>\n",
       "      <th>No Defect</th>\n",
       "      <td>86</td>\n",
       "      <td>98</td>\n",
       "    </tr>\n",
       "  </tbody>\n",
       "</table>\n",
       "</div>"
      ],
      "text/plain": [
       "model3     Defect  No Defect\n",
       "actual                      \n",
       "Defect         13          3\n",
       "No Defect      86         98"
      ]
     },
     "execution_count": 13,
     "metadata": {},
     "output_type": "execute_result"
    }
   ],
   "source": [
    "pd.crosstab(c3_df.actual, c3_df.model3)"
   ]
  },
  {
   "cell_type": "code",
   "execution_count": 57,
   "id": "96f9c866",
   "metadata": {},
   "outputs": [
    {
     "data": {
      "text/plain": [
       "No Defect    184\n",
       "Defect        16\n",
       "Name: actual, dtype: int64"
      ]
     },
     "execution_count": 57,
     "metadata": {},
     "output_type": "execute_result"
    }
   ],
   "source": [
    "c3_df.actual.value_counts()"
   ]
  },
  {
   "cell_type": "code",
   "execution_count": 58,
   "id": "ff36aa3a",
   "metadata": {},
   "outputs": [
    {
     "name": "stdout",
     "output_type": "stream",
     "text": [
      "   model 1 recall: 98.91%\n",
      "baseline recall: 100.00%\n"
     ]
    }
   ],
   "source": [
    "c3_df['baseline_prediction'] = 'No Defect'\n",
    "\n",
    "subset = c3_df[c3_df.actual == 'No Defect']\n",
    "\n",
    "model_recall = (subset.model1 == subset.actual).mean()\n",
    "baseline_recall = (subset.baseline_prediction == subset.actual).mean()\n",
    "\n",
    "print(f'   model 1 recall: {model_recall:.2%}')\n",
    "print(f'baseline recall: {baseline_recall:.2%}')\n",
    "\n",
    "# Used recall for the evaluation metric. "
   ]
  },
  {
   "cell_type": "code",
   "execution_count": 59,
   "id": "a50c6f79",
   "metadata": {},
   "outputs": [
    {
     "name": "stdout",
     "output_type": "stream",
     "text": [
      "   model 2 recall: 55.98%\n",
      "baseline recall: 100.00%\n"
     ]
    }
   ],
   "source": [
    "c3_df['baseline_prediction'] = 'No Defect'\n",
    "\n",
    "subset = c3_df[c3_df.actual == 'No Defect']\n",
    "\n",
    "model_recall = (subset.model2 == subset.actual).mean()\n",
    "baseline_recall = (subset.baseline_prediction == subset.actual).mean()\n",
    "\n",
    "print(f'   model 2 recall: {model_recall:.2%}')\n",
    "print(f'baseline recall: {baseline_recall:.2%}')\n",
    "\n",
    "# Used recall for the evaluation metric. "
   ]
  },
  {
   "cell_type": "code",
   "execution_count": 60,
   "id": "3d9fad5b",
   "metadata": {},
   "outputs": [
    {
     "name": "stdout",
     "output_type": "stream",
     "text": [
      "   model 3 recall: 53.26%\n",
      "baseline recall: 100.00%\n"
     ]
    }
   ],
   "source": [
    "c3_df['baseline_prediction'] = 'No Defect'\n",
    "\n",
    "subset = c3_df[c3_df.actual == 'No Defect']\n",
    "\n",
    "model_recall = (subset.model3 == subset.actual).mean()\n",
    "baseline_recall = (subset.baseline_prediction == subset.actual).mean()\n",
    "\n",
    "print(f'   model 3 recall: {model_recall:.2%}')\n",
    "print(f'baseline recall: {baseline_recall:.2%}')\n",
    "\n",
    "# Used recall for the evaluation metric. "
   ]
  },
  {
   "cell_type": "markdown",
   "id": "37495ebf",
   "metadata": {},
   "source": [
    "- Recently several stories in the local news have come out highlighting customers who received a rubber duck with a defect, and portraying C3 in a bad light. The PR team has decided to launch a program that gives customers with a defective duck a vacation to Hawaii. They need you to predict which ducks will have defects, but tell you the really don't want to accidentally give out a vacation package when the duck really doesn't have a defect. Which evaluation metric would be appropriate here? Which model would be the best fit for this use case?\n",
    "\n",
    "A. The accuracy evaluation metric is the most most appropriate because it evaluates how well the model does on actually positive cases and false positives are the least costly. With 95 percent accuracy, model one is the best fit."
   ]
  },
  {
   "cell_type": "code",
   "execution_count": 22,
   "id": "7a97e947",
   "metadata": {},
   "outputs": [
    {
     "name": "stdout",
     "output_type": "stream",
     "text": [
      "   model 1 accuracy: 95.00%\n",
      "baseline accuracy: 8.00%\n"
     ]
    }
   ],
   "source": [
    "c3_df['baseline_prediction'] = 'Defect'\n",
    "\n",
    "model_accuracy = (c3_df.model1 == c3_df.actual).mean()\n",
    "baseline_accuracy = (c3_df.baseline_prediction == c3_df.actual).mean()\n",
    "\n",
    "print(f'   model 1 accuracy: {model_accuracy:.2%}')\n",
    "print(f'baseline accuracy: {baseline_accuracy:.2%}')\n"
   ]
  },
  {
   "cell_type": "code",
   "execution_count": 23,
   "id": "42b5b0b1",
   "metadata": {},
   "outputs": [
    {
     "name": "stdout",
     "output_type": "stream",
     "text": [
      "   model 2 accuracy: 56.00%\n",
      "baseline accuracy: 8.00%\n"
     ]
    }
   ],
   "source": [
    "model_accuracy = (c3_df.model2 == c3_df.actual).mean()\n",
    "baseline_accuracy = (c3_df.baseline_prediction == c3_df.actual).mean()\n",
    "\n",
    "print(f'   model 2 accuracy: {model_accuracy:.2%}')\n",
    "print(f'baseline accuracy: {baseline_accuracy:.2%}')"
   ]
  },
  {
   "cell_type": "code",
   "execution_count": 24,
   "id": "a7fc3d12",
   "metadata": {},
   "outputs": [
    {
     "name": "stdout",
     "output_type": "stream",
     "text": [
      "   model 3 accuracy: 55.50%\n",
      "baseline accuracy: 8.00%\n"
     ]
    }
   ],
   "source": [
    "model_accuracy = (c3_df.model3 == c3_df.actual).mean()\n",
    "baseline_accuracy = (c3_df.baseline_prediction == c3_df.actual).mean()\n",
    "\n",
    "print(f'   model 3 accuracy: {model_accuracy:.2%}')\n",
    "print(f'baseline accuracy: {baseline_accuracy:.2%}')\n"
   ]
  },
  {
   "cell_type": "markdown",
   "id": "fff15181",
   "metadata": {},
   "source": [
    "4. You are working as a data scientist for Gives You Paws ™, a subscription based service that shows you cute pictures of dogs or cats (or both for an additional fee).  \n",
    "\n",
    "At Gives You Paws, anyone can upload pictures of their cats or dogs. The photos are then put through a two step process. First an automated algorithm tags pictures as either a cat or a dog (Phase I). Next, the photos that have been initially identified are put through another round of review, possibly with some human oversight, before being presented to the users (Phase II).  \n",
    "\n",
    "Several models have already been developed with the data, and you can find their results here. \n",
    "\n",
    "Given this dataset, use pandas to create a baseline model (i.e. a model that just predicts the most common class) and answer the following questions:  \n",
    "\n",
    "a. In terms of accuracy, how do the various models compare to the baseline model? Are any of the models better than the baseline?\n",
    "\n",
    "Answer: All four models are more accurate than the baseline model, but model one has the higest accuracy percentage."
   ]
  },
  {
   "cell_type": "code",
   "execution_count": 26,
   "id": "82713174",
   "metadata": {},
   "outputs": [
    {
     "data": {
      "text/html": [
       "<div>\n",
       "<style scoped>\n",
       "    .dataframe tbody tr th:only-of-type {\n",
       "        vertical-align: middle;\n",
       "    }\n",
       "\n",
       "    .dataframe tbody tr th {\n",
       "        vertical-align: top;\n",
       "    }\n",
       "\n",
       "    .dataframe thead th {\n",
       "        text-align: right;\n",
       "    }\n",
       "</style>\n",
       "<table border=\"1\" class=\"dataframe\">\n",
       "  <thead>\n",
       "    <tr style=\"text-align: right;\">\n",
       "      <th></th>\n",
       "      <th>actual</th>\n",
       "      <th>model1</th>\n",
       "      <th>model2</th>\n",
       "      <th>model3</th>\n",
       "      <th>model4</th>\n",
       "    </tr>\n",
       "  </thead>\n",
       "  <tbody>\n",
       "    <tr>\n",
       "      <th>0</th>\n",
       "      <td>cat</td>\n",
       "      <td>cat</td>\n",
       "      <td>dog</td>\n",
       "      <td>cat</td>\n",
       "      <td>dog</td>\n",
       "    </tr>\n",
       "    <tr>\n",
       "      <th>1</th>\n",
       "      <td>dog</td>\n",
       "      <td>dog</td>\n",
       "      <td>cat</td>\n",
       "      <td>cat</td>\n",
       "      <td>dog</td>\n",
       "    </tr>\n",
       "    <tr>\n",
       "      <th>2</th>\n",
       "      <td>dog</td>\n",
       "      <td>cat</td>\n",
       "      <td>cat</td>\n",
       "      <td>cat</td>\n",
       "      <td>dog</td>\n",
       "    </tr>\n",
       "    <tr>\n",
       "      <th>3</th>\n",
       "      <td>dog</td>\n",
       "      <td>dog</td>\n",
       "      <td>dog</td>\n",
       "      <td>cat</td>\n",
       "      <td>dog</td>\n",
       "    </tr>\n",
       "    <tr>\n",
       "      <th>4</th>\n",
       "      <td>cat</td>\n",
       "      <td>cat</td>\n",
       "      <td>cat</td>\n",
       "      <td>dog</td>\n",
       "      <td>dog</td>\n",
       "    </tr>\n",
       "  </tbody>\n",
       "</table>\n",
       "</div>"
      ],
      "text/plain": [
       "  actual model1 model2 model3 model4\n",
       "0    cat    cat    dog    cat    dog\n",
       "1    dog    dog    cat    cat    dog\n",
       "2    dog    cat    cat    cat    dog\n",
       "3    dog    dog    dog    cat    dog\n",
       "4    cat    cat    cat    dog    dog"
      ]
     },
     "execution_count": 26,
     "metadata": {},
     "output_type": "execute_result"
    }
   ],
   "source": [
    "paws_df = pd.read_csv('gives_you_paws.csv')\n",
    "paws_df.head()"
   ]
  },
  {
   "cell_type": "code",
   "execution_count": 28,
   "id": "2d4323d8",
   "metadata": {},
   "outputs": [
    {
     "data": {
      "text/html": [
       "<div>\n",
       "<style scoped>\n",
       "    .dataframe tbody tr th:only-of-type {\n",
       "        vertical-align: middle;\n",
       "    }\n",
       "\n",
       "    .dataframe tbody tr th {\n",
       "        vertical-align: top;\n",
       "    }\n",
       "\n",
       "    .dataframe thead th {\n",
       "        text-align: right;\n",
       "    }\n",
       "</style>\n",
       "<table border=\"1\" class=\"dataframe\">\n",
       "  <thead>\n",
       "    <tr style=\"text-align: right;\">\n",
       "      <th>model3</th>\n",
       "      <th>cat</th>\n",
       "      <th>dog</th>\n",
       "    </tr>\n",
       "    <tr>\n",
       "      <th>actual</th>\n",
       "      <th></th>\n",
       "      <th></th>\n",
       "    </tr>\n",
       "  </thead>\n",
       "  <tbody>\n",
       "    <tr>\n",
       "      <th>cat</th>\n",
       "      <td>893</td>\n",
       "      <td>853</td>\n",
       "    </tr>\n",
       "    <tr>\n",
       "      <th>dog</th>\n",
       "      <td>1599</td>\n",
       "      <td>1655</td>\n",
       "    </tr>\n",
       "  </tbody>\n",
       "</table>\n",
       "</div>"
      ],
      "text/plain": [
       "model3   cat   dog\n",
       "actual            \n",
       "cat      893   853\n",
       "dog     1599  1655"
      ]
     },
     "execution_count": 28,
     "metadata": {},
     "output_type": "execute_result"
    }
   ],
   "source": [
    "pd.crosstab(paws_df.actual, paws_df.model3)\n"
   ]
  },
  {
   "cell_type": "code",
   "execution_count": 63,
   "id": "8d0b6acd",
   "metadata": {},
   "outputs": [
    {
     "name": "stdout",
     "output_type": "stream",
     "text": [
      "<class 'pandas.core.series.Series'>\n",
      "RangeIndex: 5000 entries, 0 to 4999\n",
      "Series name: actual\n",
      "Non-Null Count  Dtype \n",
      "--------------  ----- \n",
      "5000 non-null   object\n",
      "dtypes: object(1)\n",
      "memory usage: 39.2+ KB\n"
     ]
    }
   ],
   "source": [
    "paws_df.actual.info()"
   ]
  },
  {
   "cell_type": "code",
   "execution_count": 64,
   "id": "a0d52e43",
   "metadata": {},
   "outputs": [
    {
     "data": {
      "text/plain": [
       "dog    3254\n",
       "cat    1746\n",
       "Name: actual, dtype: int64"
      ]
     },
     "execution_count": 64,
     "metadata": {},
     "output_type": "execute_result"
    }
   ],
   "source": [
    "paws_df.actual.value_counts()"
   ]
  },
  {
   "cell_type": "code",
   "execution_count": 26,
   "id": "6a6e9a2e",
   "metadata": {},
   "outputs": [
    {
     "data": {
      "text/plain": [
       "array([[1423,  323],\n",
       "       [ 640, 2614]])"
      ]
     },
     "execution_count": 26,
     "metadata": {},
     "output_type": "execute_result"
    }
   ],
   "source": [
    "from sklearn.metrics import confusion_matrix\n",
    "\n",
    "confusion_matrix(paws_df.actual, paws_df.model1,\n",
    "                 labels = ('cat', 'dog'))\n"
   ]
  },
  {
   "cell_type": "code",
   "execution_count": 44,
   "id": "efc83fd2",
   "metadata": {},
   "outputs": [
    {
     "name": "stdout",
     "output_type": "stream",
     "text": [
      "   model accuracy: 80.74%\n",
      "baseline accuracy: 34.92%\n"
     ]
    }
   ],
   "source": [
    "paws_df['baseline_prediction'] = 'cat'\n",
    "\n",
    "# Accuracy Model 1\n",
    "\n",
    "model_accuracy = (paws_df.model1 == paws_df.actual).mean()\n",
    "baseline_accuracy = (paws_df.baseline_prediction == paws_df.actual).mean()\n",
    "\n",
    "print(f'   model accuracy: {model_accuracy:.2%}')\n",
    "print(f'baseline accuracy: {baseline_accuracy:.2%}')"
   ]
  },
  {
   "cell_type": "code",
   "execution_count": 45,
   "id": "13153e01",
   "metadata": {},
   "outputs": [
    {
     "name": "stdout",
     "output_type": "stream",
     "text": [
      "   model recall: 81.50%\n",
      "baseline recall: 100.00%\n"
     ]
    }
   ],
   "source": [
    "# Recall Model 1\n",
    "\n",
    "subset = paws_df[paws_df.actual == 'cat']\n",
    "\n",
    "model_recall = (subset.model1 == subset.actual).mean()\n",
    "baseline_recall = (subset.baseline_prediction == subset.actual).mean()\n",
    "\n",
    "print(f'   model recall: {model_recall:.2%}')\n",
    "print(f'baseline recall: {baseline_recall:.2%}')\n"
   ]
  },
  {
   "cell_type": "code",
   "execution_count": 46,
   "id": "51570b2f",
   "metadata": {},
   "outputs": [
    {
     "name": "stdout",
     "output_type": "stream",
     "text": [
      "model precision: 68.98%\n",
      "baseline precision: 34.92%\n"
     ]
    }
   ],
   "source": [
    "# Precision Model 1\n",
    "\n",
    "subset = paws_df[paws_df.model1 == 'cat']\n",
    "model_precision = (subset.model1 == subset.actual).mean()\n",
    "\n",
    "subset = paws_df[paws_df.baseline_prediction == 'cat']\n",
    "baseline_precision = (subset.baseline_prediction == subset.actual).mean()\n",
    "\n",
    "print(f'model precision: {model_precision:.2%}')\n",
    "print(f'baseline precision: {baseline_precision:.2%}')\n"
   ]
  },
  {
   "cell_type": "code",
   "execution_count": 47,
   "id": "65a80df4",
   "metadata": {},
   "outputs": [
    {
     "name": "stdout",
     "output_type": "stream",
     "text": [
      "   model accuracy: 63.04%\n",
      "baseline accuracy: 34.92%\n"
     ]
    }
   ],
   "source": [
    "paws_df['baseline_prediction'] = 'cat'\n",
    "\n",
    "# Accuracy Model 2\n",
    "\n",
    "model_accuracy = (paws_df.model2 == paws_df.actual).mean()\n",
    "baseline_accuracy = (paws_df.baseline_prediction == paws_df.actual).mean()\n",
    "\n",
    "print(f'   model accuracy: {model_accuracy:.2%}')\n",
    "print(f'baseline accuracy: {baseline_accuracy:.2%}')"
   ]
  },
  {
   "cell_type": "code",
   "execution_count": 48,
   "id": "81c9b79b",
   "metadata": {},
   "outputs": [
    {
     "name": "stdout",
     "output_type": "stream",
     "text": [
      "   model recall: 89.06%\n",
      "baseline recall: 100.00%\n"
     ]
    }
   ],
   "source": [
    "# Recall Model 2\n",
    "\n",
    "subset = paws_df[paws_df.actual == 'cat']\n",
    "\n",
    "model_recall = (subset.model2 == subset.actual).mean()\n",
    "baseline_recall = (subset.baseline_prediction == subset.actual).mean()\n",
    "\n",
    "print(f'   model recall: {model_recall:.2%}')\n",
    "print(f'baseline recall: {baseline_recall:.2%}')\n"
   ]
  },
  {
   "cell_type": "code",
   "execution_count": 49,
   "id": "40017345",
   "metadata": {},
   "outputs": [
    {
     "name": "stdout",
     "output_type": "stream",
     "text": [
      "model precision: 48.41%\n",
      "baseline precision: 34.92%\n"
     ]
    }
   ],
   "source": [
    "# Precision Model 2\n",
    "\n",
    "subset = paws_df[paws_df.model2 == 'cat']\n",
    "model_precision = (subset.model2 == subset.actual).mean()\n",
    "\n",
    "subset = paws_df[paws_df.baseline_prediction == 'cat']\n",
    "baseline_precision = (subset.baseline_prediction == subset.actual).mean()\n",
    "\n",
    "print(f'model precision: {model_precision:.2%}')\n",
    "print(f'baseline precision: {baseline_precision:.2%}')\n"
   ]
  },
  {
   "cell_type": "code",
   "execution_count": 56,
   "id": "9a232952",
   "metadata": {},
   "outputs": [
    {
     "name": "stdout",
     "output_type": "stream",
     "text": [
      "   model accuracy: 50.96%\n",
      "baseline accuracy: 34.92%\n"
     ]
    }
   ],
   "source": [
    "paws_df['baseline_prediction'] = 'cat'\n",
    "\n",
    "# Accuracy Model 3\n",
    "\n",
    "model_accuracy = (paws_df.model3 == paws_df.actual).mean()\n",
    "baseline_accuracy = (paws_df.baseline_prediction == paws_df.actual).mean()\n",
    "\n",
    "print(f'   model accuracy: {model_accuracy:.2%}')\n",
    "print(f'baseline accuracy: {baseline_accuracy:.2%}')"
   ]
  },
  {
   "cell_type": "code",
   "execution_count": 51,
   "id": "178eb93c",
   "metadata": {},
   "outputs": [
    {
     "name": "stdout",
     "output_type": "stream",
     "text": [
      "   model recall: 51.15%\n",
      "baseline recall: 0.00%\n"
     ]
    }
   ],
   "source": [
    "# Recall Model 3\n",
    "\n",
    "subset = paws_df[paws_df.actual == 'cat']\n",
    "\n",
    "model_recall = (subset.model3 == subset.actual).mean()\n",
    "baseline_recall = (subset.baseline_prediction == subset.actual).mean()\n",
    "\n",
    "print(f'   model recall: {model_recall:.2%}')\n",
    "print(f'baseline recall: {baseline_recall:.2%}')\n"
   ]
  },
  {
   "cell_type": "code",
   "execution_count": 52,
   "id": "c959f129",
   "metadata": {},
   "outputs": [
    {
     "name": "stdout",
     "output_type": "stream",
     "text": [
      "model precision: 35.83%\n",
      "baseline precision: nan%\n"
     ]
    }
   ],
   "source": [
    "# Precision Model 3\n",
    "\n",
    "subset = paws_df[paws_df.model3 == 'cat']\n",
    "model_precision = (subset.model3 == subset.actual).mean()\n",
    "\n",
    "subset = paws_df[paws_df.baseline_prediction == 'cat']\n",
    "baseline_precision = (subset.baseline_prediction == subset.actual).mean()\n",
    "\n",
    "print(f'model precision: {model_precision:.2%}')\n",
    "print(f'baseline precision: {baseline_precision:.2%}')"
   ]
  },
  {
   "cell_type": "code",
   "execution_count": 53,
   "id": "3325f2bd",
   "metadata": {},
   "outputs": [
    {
     "name": "stdout",
     "output_type": "stream",
     "text": [
      "   model accuracy: 74.26%\n",
      "baseline accuracy: 34.92%\n"
     ]
    }
   ],
   "source": [
    "paws_df['baseline_prediction'] = 'cat'\n",
    "\n",
    "# Accuracy Model 4\n",
    "\n",
    "model_accuracy = (paws_df.model4 == paws_df.actual).mean()\n",
    "baseline_accuracy = (paws_df.baseline_prediction == paws_df.actual).mean()\n",
    "\n",
    "print(f'   model accuracy: {model_accuracy:.2%}')\n",
    "print(f'baseline accuracy: {baseline_accuracy:.2%}')"
   ]
  },
  {
   "cell_type": "code",
   "execution_count": 54,
   "id": "7fa2f52d",
   "metadata": {},
   "outputs": [
    {
     "name": "stdout",
     "output_type": "stream",
     "text": [
      "   model recall: 34.54%\n",
      "baseline recall: 100.00%\n"
     ]
    }
   ],
   "source": [
    "# Recall Model 4\n",
    "\n",
    "subset = paws_df[paws_df.actual == 'cat']\n",
    "\n",
    "model_recall = (subset.model4 == subset.actual).mean()\n",
    "baseline_recall = (subset.baseline_prediction == subset.actual).mean()\n",
    "\n",
    "print(f'   model recall: {model_recall:.2%}')\n",
    "print(f'baseline recall: {baseline_recall:.2%}')\n"
   ]
  },
  {
   "cell_type": "code",
   "execution_count": 55,
   "id": "6e0b791e",
   "metadata": {},
   "outputs": [
    {
     "name": "stdout",
     "output_type": "stream",
     "text": [
      "model precision: 80.72%\n",
      "baseline precision: 34.92%\n"
     ]
    }
   ],
   "source": [
    "# Precision Model 4\n",
    "\n",
    "subset = paws_df[paws_df.model4 == 'cat']\n",
    "model_precision = (subset.model4 == subset.actual).mean()\n",
    "\n",
    "subset = paws_df[paws_df.baseline_prediction == 'cat']\n",
    "baseline_precision = (subset.baseline_prediction == subset.actual).mean()\n",
    "\n",
    "print(f'model precision: {model_precision:.2%}')\n",
    "print(f'baseline precision: {baseline_precision:.2%}')\n"
   ]
  },
  {
   "cell_type": "markdown",
   "id": "d6918c18",
   "metadata": {},
   "source": [
    "b. Suppose you are working on a team that solely deals with dog pictures. Which of these models would you recommend?"
   ]
  },
  {
   "cell_type": "markdown",
   "id": "3458365f",
   "metadata": {},
   "source": [
    "Recall model 4 has the highest percentage."
   ]
  },
  {
   "cell_type": "markdown",
   "id": "9b97ff0e",
   "metadata": {},
   "source": [
    "c. Suppose you are working on a team that solely deals with cat pictures. Which of these models would you recommend?"
   ]
  },
  {
   "cell_type": "markdown",
   "id": "41f9f5bf",
   "metadata": {},
   "source": [
    "Recall model 2"
   ]
  },
  {
   "cell_type": "markdown",
   "id": "378e533b",
   "metadata": {},
   "source": [
    "5. Follow the links below to read the documentation about each function, then apply those functions to the data from the previous problem.\n",
    "\n",
    "- sklearn.metrics.accuracy_score"
   ]
  },
  {
   "cell_type": "code",
   "execution_count": 51,
   "id": "400e6a93",
   "metadata": {},
   "outputs": [
    {
     "data": {
      "text/plain": [
       "4037"
      ]
     },
     "execution_count": 51,
     "metadata": {},
     "output_type": "execute_result"
    }
   ],
   "source": [
    "from sklearn.metrics import accuracy_score\n",
    "y_pred = paws_df['model1']\n",
    "y_true = paws_df['actual']\n",
    "accuracy_score(y_true, y_pred)\n",
    "accuracy_score(y_true, y_pred, normalize=False)\n"
   ]
  },
  {
   "cell_type": "code",
   "execution_count": null,
   "id": "c0d0b34b",
   "metadata": {},
   "outputs": [],
   "source": []
  },
  {
   "cell_type": "code",
   "execution_count": 52,
   "id": "4f482f82",
   "metadata": {},
   "outputs": [
    {
     "data": {
      "text/plain": [
       "3152"
      ]
     },
     "execution_count": 52,
     "metadata": {},
     "output_type": "execute_result"
    }
   ],
   "source": [
    "y_pred = paws_df['model2']\n",
    "y_true = paws_df['actual']\n",
    "accuracy_score(y_true, y_pred)\n",
    "accuracy_score(y_true, y_pred, normalize=False)\n"
   ]
  },
  {
   "cell_type": "code",
   "execution_count": 53,
   "id": "aacab6cd",
   "metadata": {},
   "outputs": [
    {
     "data": {
      "text/plain": [
       "2548"
      ]
     },
     "execution_count": 53,
     "metadata": {},
     "output_type": "execute_result"
    }
   ],
   "source": [
    "y_pred = paws_df['model3']\n",
    "y_true = paws_df['actual']\n",
    "accuracy_score(y_true, y_pred)\n",
    "accuracy_score(y_true, y_pred, normalize=False)\n"
   ]
  },
  {
   "cell_type": "markdown",
   "id": "4c2fa32e",
   "metadata": {},
   "source": [
    "- sklearn.metrics.precision_score"
   ]
  },
  {
   "cell_type": "code",
   "execution_count": 54,
   "id": "c8da6e6a",
   "metadata": {},
   "outputs": [
    {
     "data": {
      "text/plain": [
       "array([0.68977218, 0.89002383])"
      ]
     },
     "execution_count": 54,
     "metadata": {},
     "output_type": "execute_result"
    }
   ],
   "source": [
    "from sklearn.metrics import precision_score\n",
    "y_true = paws_df.actual\n",
    "y_pred = paws_df.model1\n",
    "precision_score(y_true, y_pred, average='macro')\n",
    "\n",
    "precision_score(y_true, y_pred, average='micro')\n",
    "\n",
    "precision_score(y_true, y_pred, average='weighted')\n",
    "\n",
    "precision_score(y_true, y_pred, average=None)\n",
    "\n",
    "\n"
   ]
  },
  {
   "cell_type": "code",
   "execution_count": 55,
   "id": "0b673692",
   "metadata": {},
   "outputs": [
    {
     "data": {
      "text/plain": [
       "array([0.48412204, 0.89317673])"
      ]
     },
     "execution_count": 55,
     "metadata": {},
     "output_type": "execute_result"
    }
   ],
   "source": [
    "y_true = paws_df.actual\n",
    "y_pred = paws_df.model2\n",
    "precision_score(y_true, y_pred, average='macro')\n",
    "\n",
    "precision_score(y_true, y_pred, average='micro')\n",
    "\n",
    "precision_score(y_true, y_pred, average='weighted')\n",
    "\n",
    "precision_score(y_true, y_pred, average=None)"
   ]
  },
  {
   "cell_type": "code",
   "execution_count": 56,
   "id": "95b8e81a",
   "metadata": {},
   "outputs": [
    {
     "data": {
      "text/plain": [
       "array([0.35834671, 0.65988836])"
      ]
     },
     "execution_count": 56,
     "metadata": {},
     "output_type": "execute_result"
    }
   ],
   "source": [
    "y_true = paws_df.actual\n",
    "y_pred = paws_df.model3\n",
    "precision_score(y_true, y_pred, average='macro')\n",
    "\n",
    "precision_score(y_true, y_pred, average='micro')\n",
    "\n",
    "precision_score(y_true, y_pred, average='weighted')\n",
    "\n",
    "precision_score(y_true, y_pred, average=None)"
   ]
  },
  {
   "cell_type": "markdown",
   "id": "bc8f8253",
   "metadata": {},
   "source": [
    "- sklearn.metrics.recall_score\n"
   ]
  },
  {
   "cell_type": "code",
   "execution_count": 57,
   "id": "59e7a8ab",
   "metadata": {},
   "outputs": [
    {
     "data": {
      "text/plain": [
       "array([0.81500573, 0.80331899])"
      ]
     },
     "execution_count": 57,
     "metadata": {},
     "output_type": "execute_result"
    }
   ],
   "source": [
    "from sklearn.metrics import recall_score\n",
    "y_true = paws_df.actual\n",
    "y_pred = paws_df.model1\n",
    "recall_score(y_true, y_pred, average='macro')\n",
    "recall_score(y_true, y_pred, average='micro')\n",
    "\n",
    "recall_score(y_true, y_pred, average='weighted')\n",
    "\n",
    "recall_score(y_true, y_pred, average=None)"
   ]
  },
  {
   "cell_type": "code",
   "execution_count": 58,
   "id": "93b4b272",
   "metadata": {},
   "outputs": [
    {
     "data": {
      "text/plain": [
       "array([0.8906071 , 0.49078058])"
      ]
     },
     "execution_count": 58,
     "metadata": {},
     "output_type": "execute_result"
    }
   ],
   "source": [
    "y_true = paws_df.actual\n",
    "y_pred = paws_df.model2\n",
    "recall_score(y_true, y_pred, average='macro')\n",
    "recall_score(y_true, y_pred, average='micro')\n",
    "\n",
    "recall_score(y_true, y_pred, average='weighted')\n",
    "\n",
    "recall_score(y_true, y_pred, average=None)"
   ]
  },
  {
   "cell_type": "code",
   "execution_count": 59,
   "id": "e61bf1b6",
   "metadata": {},
   "outputs": [
    {
     "data": {
      "text/plain": [
       "array([0.51145475, 0.50860479])"
      ]
     },
     "execution_count": 59,
     "metadata": {},
     "output_type": "execute_result"
    }
   ],
   "source": [
    "y_true = paws_df.actual\n",
    "y_pred = paws_df.model3\n",
    "recall_score(y_true, y_pred, average='macro')\n",
    "recall_score(y_true, y_pred, average='micro')\n",
    "\n",
    "recall_score(y_true, y_pred, average='weighted')\n",
    "\n",
    "recall_score(y_true, y_pred, average=None)"
   ]
  },
  {
   "cell_type": "markdown",
   "id": "09dc7e3f",
   "metadata": {},
   "source": [
    "- sklearn.metrics.classification_report"
   ]
  },
  {
   "cell_type": "code",
   "execution_count": 61,
   "id": "04cc74e9",
   "metadata": {},
   "outputs": [
    {
     "name": "stdout",
     "output_type": "stream",
     "text": [
      "              precision    recall  f1-score   support\n",
      "\n",
      "     class 0       0.69      0.82      0.75      1746\n",
      "     class 1       0.89      0.80      0.84      3254\n",
      "\n",
      "    accuracy                           0.81      5000\n",
      "   macro avg       0.79      0.81      0.80      5000\n",
      "weighted avg       0.82      0.81      0.81      5000\n",
      "\n"
     ]
    }
   ],
   "source": [
    "from sklearn.metrics import classification_report\n",
    "y_true = paws_df.actual\n",
    "y_pred = paws_df.model1\n",
    "target_names = ['class 0', 'class 1']\n",
    "print(classification_report(y_true, y_pred, target_names=target_names))"
   ]
  },
  {
   "cell_type": "code",
   "execution_count": 62,
   "id": "9ae6dba8",
   "metadata": {},
   "outputs": [
    {
     "name": "stdout",
     "output_type": "stream",
     "text": [
      "              precision    recall  f1-score   support\n",
      "\n",
      "     class 0       0.48      0.89      0.63      1746\n",
      "     class 1       0.89      0.49      0.63      3254\n",
      "\n",
      "    accuracy                           0.63      5000\n",
      "   macro avg       0.69      0.69      0.63      5000\n",
      "weighted avg       0.75      0.63      0.63      5000\n",
      "\n"
     ]
    }
   ],
   "source": [
    "y_true = paws_df.actual\n",
    "y_pred = paws_df.model2\n",
    "target_names = ['class 0', 'class 1']\n",
    "print(classification_report(y_true, y_pred, target_names=target_names))"
   ]
  },
  {
   "cell_type": "code",
   "execution_count": 63,
   "id": "24c63921",
   "metadata": {},
   "outputs": [
    {
     "name": "stdout",
     "output_type": "stream",
     "text": [
      "              precision    recall  f1-score   support\n",
      "\n",
      "     class 0       0.36      0.51      0.42      1746\n",
      "     class 1       0.66      0.51      0.57      3254\n",
      "\n",
      "    accuracy                           0.51      5000\n",
      "   macro avg       0.51      0.51      0.50      5000\n",
      "weighted avg       0.55      0.51      0.52      5000\n",
      "\n"
     ]
    }
   ],
   "source": [
    "y_true = paws_df.actual\n",
    "y_pred = paws_df.model3\n",
    "target_names = ['class 0', 'class 1']\n",
    "print(classification_report(y_true, y_pred, target_names=target_names))"
   ]
  },
  {
   "cell_type": "code",
   "execution_count": null,
   "id": "51d8d55c",
   "metadata": {},
   "outputs": [],
   "source": []
  }
 ],
 "metadata": {
  "kernelspec": {
   "display_name": "Python 3 (ipykernel)",
   "language": "python",
   "name": "python3"
  },
  "language_info": {
   "codemirror_mode": {
    "name": "ipython",
    "version": 3
   },
   "file_extension": ".py",
   "mimetype": "text/x-python",
   "name": "python",
   "nbconvert_exporter": "python",
   "pygments_lexer": "ipython3",
   "version": "3.9.13"
  }
 },
 "nbformat": 4,
 "nbformat_minor": 5
}
