{
 "cells": [
  {
   "cell_type": "markdown",
   "id": "c5b382fb",
   "metadata": {},
   "source": [
    "# Exercises - KNN Model\n",
    "\n",
    "\n",
    "Create a new notebook, knn_model, and work with the titanic dataset to answer the following:"
   ]
  },
  {
   "cell_type": "code",
   "execution_count": 19,
   "id": "d740a6d1",
   "metadata": {},
   "outputs": [
    {
     "data": {
      "text/html": [
       "<div>\n",
       "<style scoped>\n",
       "    .dataframe tbody tr th:only-of-type {\n",
       "        vertical-align: middle;\n",
       "    }\n",
       "\n",
       "    .dataframe tbody tr th {\n",
       "        vertical-align: top;\n",
       "    }\n",
       "\n",
       "    .dataframe thead th {\n",
       "        text-align: right;\n",
       "    }\n",
       "</style>\n",
       "<table border=\"1\" class=\"dataframe\">\n",
       "  <thead>\n",
       "    <tr style=\"text-align: right;\">\n",
       "      <th></th>\n",
       "      <th>passenger_id</th>\n",
       "      <th>survived</th>\n",
       "      <th>pclass</th>\n",
       "      <th>sex</th>\n",
       "      <th>age</th>\n",
       "      <th>sibsp</th>\n",
       "      <th>parch</th>\n",
       "      <th>fare</th>\n",
       "      <th>embarked</th>\n",
       "      <th>class</th>\n",
       "      <th>deck</th>\n",
       "      <th>embark_town</th>\n",
       "      <th>alone</th>\n",
       "    </tr>\n",
       "  </thead>\n",
       "  <tbody>\n",
       "    <tr>\n",
       "      <th>0</th>\n",
       "      <td>0</td>\n",
       "      <td>0</td>\n",
       "      <td>3</td>\n",
       "      <td>male</td>\n",
       "      <td>22.0</td>\n",
       "      <td>1</td>\n",
       "      <td>0</td>\n",
       "      <td>7.2500</td>\n",
       "      <td>S</td>\n",
       "      <td>Third</td>\n",
       "      <td>None</td>\n",
       "      <td>Southampton</td>\n",
       "      <td>0</td>\n",
       "    </tr>\n",
       "    <tr>\n",
       "      <th>1</th>\n",
       "      <td>1</td>\n",
       "      <td>1</td>\n",
       "      <td>1</td>\n",
       "      <td>female</td>\n",
       "      <td>38.0</td>\n",
       "      <td>1</td>\n",
       "      <td>0</td>\n",
       "      <td>71.2833</td>\n",
       "      <td>C</td>\n",
       "      <td>First</td>\n",
       "      <td>C</td>\n",
       "      <td>Cherbourg</td>\n",
       "      <td>0</td>\n",
       "    </tr>\n",
       "  </tbody>\n",
       "</table>\n",
       "</div>"
      ],
      "text/plain": [
       "   passenger_id  survived  pclass     sex   age  sibsp  parch     fare  \\\n",
       "0             0         0       3    male  22.0      1      0   7.2500   \n",
       "1             1         1       1  female  38.0      1      0  71.2833   \n",
       "\n",
       "  embarked  class  deck  embark_town  alone  \n",
       "0        S  Third  None  Southampton      0  \n",
       "1        C  First     C    Cherbourg      0  "
      ]
     },
     "execution_count": 19,
     "metadata": {},
     "output_type": "execute_result"
    }
   ],
   "source": [
    "import warnings\n",
    "warnings.filterwarnings(\"ignore\")\n",
    "\n",
    "import numpy as np\n",
    "\n",
    "from pydataset import data\n",
    "\n",
    "from sklearn.model_selection import train_test_split\n",
    "from sklearn.tree import DecisionTreeClassifier, plot_tree\n",
    "from sklearn.metrics import classification_report\n",
    "from sklearn.metrics import confusion_matrix\n",
    "from sklearn.ensemble import RandomForestClassifier\n",
    "from sklearn.neighbors import KNeighborsClassifier\n",
    "\n",
    "import matplotlib.pyplot as plt\n",
    "import seaborn as sns\n",
    "import pandas as pd\n",
    "\n",
    "import env\n",
    "\n",
    "def get_connection(db, username=env.username, host=env.host, password=env.password):\n",
    "    return f'mysql+pymysql://{username}:{password}@{host}/{db}'\n",
    "\n",
    "def get_titanic():\n",
    "    my_query=\"SELECT * FROM passengers\"\n",
    "    titanic = pd.read_sql(my_query, get_connection('titanic_db'))\n",
    "    return titanic\n",
    "\n",
    "titanic = get_titanic()\n",
    "titanic.head(2)\n"
   ]
  },
  {
   "cell_type": "code",
   "execution_count": 2,
   "id": "a3417b36",
   "metadata": {},
   "outputs": [],
   "source": [
    "def prep_titanic(df):\n",
    "    \n",
    "    cols_to_drop = ['deck', 'embarked', 'class', 'age']\n",
    "    titanic = df.drop(columns=cols_to_drop)\n",
    "    dummy_titanic = pd.get_dummies(titanic[['sex','embark_town']], dummy_na=False, drop_first=[True, True])\n",
    "    titanic = pd.concat([titanic, dummy_titanic], axis=1)\n",
    "    titanic.dropna()\n",
    "    return titanic"
   ]
  },
  {
   "cell_type": "code",
   "execution_count": 3,
   "id": "4b67c6bd",
   "metadata": {},
   "outputs": [],
   "source": [
    "titanic = prep_titanic(titanic)"
   ]
  },
  {
   "cell_type": "code",
   "execution_count": 4,
   "id": "6fc55420",
   "metadata": {},
   "outputs": [],
   "source": [
    "cols_to_drop = ['sex', 'embark_town']\n",
    "titanic = titanic.drop(columns=cols_to_drop)"
   ]
  },
  {
   "cell_type": "code",
   "execution_count": 5,
   "id": "23b506c9",
   "metadata": {},
   "outputs": [],
   "source": [
    "def train_val_test(df, target, seed=42):\n",
    "    \n",
    "    train, val_test = train_test_split(df, train_size=0.7, random_state=seed, stratify=df[target])\n",
    "    \n",
    "    val, test = train_test_split(val_test, train_size=0.5, random_state=seed, stratify=val_test[target])\n",
    "    \n",
    "    return train, val, test"
   ]
  },
  {
   "cell_type": "code",
   "execution_count": 6,
   "id": "91965a61",
   "metadata": {},
   "outputs": [
    {
     "data": {
      "text/plain": [
       "((623, 10), (134, 10), (134, 10))"
      ]
     },
     "execution_count": 6,
     "metadata": {},
     "output_type": "execute_result"
    }
   ],
   "source": [
    "train, val, test = train_val_test(titanic, 'survived')\n",
    "train.shape, val.shape, test.shape"
   ]
  },
  {
   "cell_type": "code",
   "execution_count": 7,
   "id": "26176910",
   "metadata": {},
   "outputs": [],
   "source": [
    "X_train = train.drop(columns=['survived'])\n",
    "y_train = train['survived']\n",
    "\n",
    "X_val = val.drop(columns=['survived'])\n",
    "y_val = val['survived']\n",
    "\n",
    "X_test = test.drop(columns=['survived'])\n",
    "y_test = test['survived']"
   ]
  },
  {
   "cell_type": "markdown",
   "id": "0603942c",
   "metadata": {},
   "source": [
    "1. Fit a K-Nearest Neighbors classifier to your training sample and transform (i.e. make predictions on the training sample)"
   ]
  },
  {
   "cell_type": "code",
   "execution_count": 13,
   "id": "ed927cfe",
   "metadata": {},
   "outputs": [],
   "source": [
    "knn = KNeighborsClassifier(n_neighbors=5)        \n",
    "tree1 = knn.fit(X_train, y_train)\n",
    "y_pred = knn.predict(X_train)"
   ]
  },
  {
   "cell_type": "code",
   "execution_count": 15,
   "id": "dacc0afc",
   "metadata": {},
   "outputs": [
    {
     "data": {
      "image/png": "[encoded data removed]",
      "text/plain": [
       "<Figure size 640x480 with 1 Axes>"
      ]
     },
     "metadata": {},
     "output_type": "display_data"
    }
   ],
   "source": [
    "k_range = range(1, 20)\n",
    "scores = []\n",
    "for k in k_range:\n",
    "    knn = KNeighborsClassifier(n_neighbors = k)\n",
    "    knn.fit(X_train, y_train)\n",
    "    scores.append(knn.score(X_test, y_test))\n",
    "plt.figure()\n",
    "plt.xlabel('k')\n",
    "plt.ylabel('accuracy')\n",
    "plt.scatter(k_range, scores)\n",
    "plt.xticks([0,5,10,15,20])\n",
    "plt.show()\n"
   ]
  },
  {
   "cell_type": "markdown",
   "id": "a24f05fa",
   "metadata": {},
   "source": [
    "2. Evaluate your results using the model score, confusion matrix, and classification report."
   ]
  },
  {
   "cell_type": "code",
   "execution_count": 21,
   "id": "39a2eb02",
   "metadata": {},
   "outputs": [
    {
     "name": "stdout",
     "output_type": "stream",
     "text": [
      "Tree of 1 depth\n"
     ]
    },
    {
     "data": {
      "text/html": [
       "<div>\n",
       "<style scoped>\n",
       "    .dataframe tbody tr th:only-of-type {\n",
       "        vertical-align: middle;\n",
       "    }\n",
       "\n",
       "    .dataframe tbody tr th {\n",
       "        vertical-align: top;\n",
       "    }\n",
       "\n",
       "    .dataframe thead th {\n",
       "        text-align: right;\n",
       "    }\n",
       "</style>\n",
       "<table border=\"1\" class=\"dataframe\">\n",
       "  <thead>\n",
       "    <tr style=\"text-align: right;\">\n",
       "      <th></th>\n",
       "      <th>precision</th>\n",
       "      <th>recall</th>\n",
       "      <th>f1-score</th>\n",
       "      <th>support</th>\n",
       "    </tr>\n",
       "  </thead>\n",
       "  <tbody>\n",
       "    <tr>\n",
       "      <th>0</th>\n",
       "      <td>0.743875</td>\n",
       "      <td>0.869792</td>\n",
       "      <td>0.801921</td>\n",
       "      <td>384.000000</td>\n",
       "    </tr>\n",
       "    <tr>\n",
       "      <th>1</th>\n",
       "      <td>0.712644</td>\n",
       "      <td>0.518828</td>\n",
       "      <td>0.600484</td>\n",
       "      <td>239.000000</td>\n",
       "    </tr>\n",
       "    <tr>\n",
       "      <th>accuracy</th>\n",
       "      <td>0.735152</td>\n",
       "      <td>0.735152</td>\n",
       "      <td>0.735152</td>\n",
       "      <td>0.735152</td>\n",
       "    </tr>\n",
       "    <tr>\n",
       "      <th>macro avg</th>\n",
       "      <td>0.728259</td>\n",
       "      <td>0.694310</td>\n",
       "      <td>0.701203</td>\n",
       "      <td>623.000000</td>\n",
       "    </tr>\n",
       "    <tr>\n",
       "      <th>weighted avg</th>\n",
       "      <td>0.731894</td>\n",
       "      <td>0.735152</td>\n",
       "      <td>0.724644</td>\n",
       "      <td>623.000000</td>\n",
       "    </tr>\n",
       "  </tbody>\n",
       "</table>\n",
       "</div>"
      ],
      "text/plain": [
       "              precision    recall  f1-score     support\n",
       "0              0.743875  0.869792  0.801921  384.000000\n",
       "1              0.712644  0.518828  0.600484  239.000000\n",
       "accuracy       0.735152  0.735152  0.735152    0.735152\n",
       "macro avg      0.728259  0.694310  0.701203  623.000000\n",
       "weighted avg   0.731894  0.735152  0.724644  623.000000"
      ]
     },
     "execution_count": 21,
     "metadata": {},
     "output_type": "execute_result"
    }
   ],
   "source": [
    "report = classification_report(y_train, y_pred, output_dict=True)\n",
    "print(\"Tree of 1 depth\")\n",
    "pd.DataFrame(report).T"
   ]
  },
  {
   "cell_type": "code",
   "execution_count": 9,
   "id": "66757b81",
   "metadata": {},
   "outputs": [
    {
     "data": {
      "text/plain": [
       "0.7351524879614767"
      ]
     },
     "execution_count": 9,
     "metadata": {},
     "output_type": "execute_result"
    }
   ],
   "source": [
    "knn.score(X_train, y_train)"
   ]
  },
  {
   "cell_type": "code",
   "execution_count": 10,
   "id": "494f077b",
   "metadata": {},
   "outputs": [
    {
     "data": {
      "text/plain": [
       "0.6492537313432836"
      ]
     },
     "execution_count": 10,
     "metadata": {},
     "output_type": "execute_result"
    }
   ],
   "source": [
    "knn.score(X_val, y_val)"
   ]
  },
  {
   "cell_type": "code",
   "execution_count": 11,
   "id": "51b9550d",
   "metadata": {},
   "outputs": [
    {
     "name": "stdout",
     "output_type": "stream",
     "text": [
      "[[334  50]\n",
      " [115 124]]\n"
     ]
    }
   ],
   "source": [
    "print(confusion_matrix(y_train, y_pred))"
   ]
  },
  {
   "cell_type": "code",
   "execution_count": 12,
   "id": "4b6fae22",
   "metadata": {},
   "outputs": [
    {
     "name": "stdout",
     "output_type": "stream",
     "text": [
      "              precision    recall  f1-score   support\n",
      "\n",
      "           0       0.74      0.87      0.80       384\n",
      "           1       0.71      0.52      0.60       239\n",
      "\n",
      "    accuracy                           0.74       623\n",
      "   macro avg       0.73      0.69      0.70       623\n",
      "weighted avg       0.73      0.74      0.72       623\n",
      "\n"
     ]
    }
   ],
   "source": [
    "print(classification_report(y_train, y_pred))"
   ]
  },
  {
   "cell_type": "markdown",
   "id": "2b56c856",
   "metadata": {},
   "source": [
    "3. Print and clearly label the following: Accuracy, true positive rate, false positive rate, true negative rate, false negative rate, precision, recall, f1-score, and support."
   ]
  },
  {
   "cell_type": "code",
   "execution_count": 23,
   "id": "aeca7a96",
   "metadata": {},
   "outputs": [
    {
     "data": {
      "text/plain": [
       "0.7351524879614767"
      ]
     },
     "execution_count": 23,
     "metadata": {},
     "output_type": "execute_result"
    }
   ],
   "source": [
    "acc = tree1.score(X_train, y_train)\n",
    "acc"
   ]
  },
  {
   "cell_type": "code",
   "execution_count": 22,
   "id": "4bc54b16",
   "metadata": {},
   "outputs": [
    {
     "name": "stdout",
     "output_type": "stream",
     "text": [
      "Accuracy of K Neighbors Classifier on training set: 0.74\n"
     ]
    }
   ],
   "source": [
    "print('Accuracy of K Neighbors Classifier on training set: {:.2f}'\n",
    "      .format(tree1.score(X_train, y_train)))"
   ]
  },
  {
   "cell_type": "code",
   "execution_count": 25,
   "id": "413b8a7c",
   "metadata": {},
   "outputs": [
    {
     "data": {
      "text/plain": [
       "(334, 50, 115, 124)"
      ]
     },
     "execution_count": 25,
     "metadata": {},
     "output_type": "execute_result"
    }
   ],
   "source": [
    "TN, FP, FN, TP = confusion_matrix(y_train, y_pred).ravel()\n",
    "TN, FP, FN, TP"
   ]
  },
  {
   "cell_type": "code",
   "execution_count": 26,
   "id": "a73feac5",
   "metadata": {},
   "outputs": [
    {
     "name": "stdout",
     "output_type": "stream",
     "text": [
      "Negative Cases: 384\n",
      "Positive Cases: 239\n",
      "0    384\n",
      "1    239\n",
      "Name: survived, dtype: int64\n"
     ]
    }
   ],
   "source": [
    "negative_cases = TN + FP\n",
    "positive_cases = FN + TP\n",
    "print(f\"Negative Cases: {negative_cases}\")\n",
    "print(f\"Positive Cases: {positive_cases}\")\n",
    "print(y_train.value_counts())"
   ]
  },
  {
   "cell_type": "code",
   "execution_count": 35,
   "id": "fa6bfde1",
   "metadata": {},
   "outputs": [
    {
     "data": {
      "text/plain": [
       "0.7351524879614767"
      ]
     },
     "execution_count": 35,
     "metadata": {},
     "output_type": "execute_result"
    }
   ],
   "source": [
    "ALL = TP + FP + FN + TN\n",
    "acc = (TP + TN) / ALL\n",
    "acc"
   ]
  },
  {
   "cell_type": "code",
   "execution_count": 28,
   "id": "bb557e57",
   "metadata": {},
   "outputs": [
    {
     "data": {
      "text/plain": [
       "0.5188284518828452"
      ]
     },
     "execution_count": 28,
     "metadata": {},
     "output_type": "execute_result"
    }
   ],
   "source": [
    "TPR = recall = TP/ (TP + FN)\n",
    "TPR"
   ]
  },
  {
   "cell_type": "code",
   "execution_count": 29,
   "id": "75e0e365",
   "metadata": {},
   "outputs": [
    {
     "data": {
      "text/plain": [
       "0.13020833333333334"
      ]
     },
     "execution_count": 29,
     "metadata": {},
     "output_type": "execute_result"
    }
   ],
   "source": [
    "FPR = FP / (FP + TN)\n",
    "FPR"
   ]
  },
  {
   "cell_type": "code",
   "execution_count": 30,
   "id": "c529e256",
   "metadata": {},
   "outputs": [
    {
     "data": {
      "text/plain": [
       "0.8697916666666666"
      ]
     },
     "execution_count": 30,
     "metadata": {},
     "output_type": "execute_result"
    }
   ],
   "source": [
    "TNR = TN / (TN + FP)\n",
    "TNR"
   ]
  },
  {
   "cell_type": "code",
   "execution_count": 31,
   "id": "75f59e60",
   "metadata": {},
   "outputs": [
    {
     "data": {
      "text/plain": [
       "0.4811715481171548"
      ]
     },
     "execution_count": 31,
     "metadata": {},
     "output_type": "execute_result"
    }
   ],
   "source": [
    "FNR = FN / (FN + TP)\n",
    "FNR"
   ]
  },
  {
   "cell_type": "code",
   "execution_count": 32,
   "id": "708e6e87",
   "metadata": {},
   "outputs": [
    {
     "data": {
      "text/plain": [
       "0.7126436781609196"
      ]
     },
     "execution_count": 32,
     "metadata": {},
     "output_type": "execute_result"
    }
   ],
   "source": [
    "precision = TP / (TP + FP)\n",
    "precision"
   ]
  },
  {
   "cell_type": "code",
   "execution_count": 33,
   "id": "cc0fde98",
   "metadata": {},
   "outputs": [
    {
     "data": {
      "text/plain": [
       "0.6004842615012107"
      ]
     },
     "execution_count": 33,
     "metadata": {},
     "output_type": "execute_result"
    }
   ],
   "source": [
    "f1_score = 2 * (precision*recall) / (precision+recall)\n",
    "f1_score"
   ]
  },
  {
   "cell_type": "code",
   "execution_count": 34,
   "id": "87d71c3a",
   "metadata": {},
   "outputs": [
    {
     "data": {
      "text/plain": [
       "(239, 384)"
      ]
     },
     "execution_count": 34,
     "metadata": {},
     "output_type": "execute_result"
    }
   ],
   "source": [
    "support_pos = TP + FN\n",
    "support_neg = FP + TN\n",
    "support_pos, support_neg"
   ]
  },
  {
   "cell_type": "markdown",
   "id": "358a0b59",
   "metadata": {},
   "source": [
    "4. Run through steps 1-3 setting k to 10"
   ]
  },
  {
   "cell_type": "code",
   "execution_count": 36,
   "id": "acbb8c17",
   "metadata": {},
   "outputs": [],
   "source": [
    "knn = KNeighborsClassifier(n_neighbors=10)        \n",
    "tree1 = knn.fit(X_train, y_train)\n",
    "y_pred = knn.predict(X_train)"
   ]
  },
  {
   "cell_type": "code",
   "execution_count": 37,
   "id": "25337557",
   "metadata": {},
   "outputs": [
    {
     "data": {
      "image/png": "[encoded data removed]",
      "text/plain": [
       "<Figure size 640x480 with 1 Axes>"
      ]
     },
     "metadata": {},
     "output_type": "display_data"
    }
   ],
   "source": [
    "k_range = range(1, 20)\n",
    "scores = []\n",
    "for k in k_range:\n",
    "    knn = KNeighborsClassifier(n_neighbors = k)\n",
    "    knn.fit(X_train, y_train)\n",
    "    scores.append(knn.score(X_test, y_test))\n",
    "plt.figure()\n",
    "plt.xlabel('k')\n",
    "plt.ylabel('accuracy')\n",
    "plt.scatter(k_range, scores)\n",
    "plt.xticks([0,5,10,15,20])\n",
    "plt.show()"
   ]
  },
  {
   "cell_type": "code",
   "execution_count": 38,
   "id": "36a0179f",
   "metadata": {},
   "outputs": [
    {
     "name": "stdout",
     "output_type": "stream",
     "text": [
      "Tree of 1 depth\n"
     ]
    },
    {
     "data": {
      "text/html": [
       "<div>\n",
       "<style scoped>\n",
       "    .dataframe tbody tr th:only-of-type {\n",
       "        vertical-align: middle;\n",
       "    }\n",
       "\n",
       "    .dataframe tbody tr th {\n",
       "        vertical-align: top;\n",
       "    }\n",
       "\n",
       "    .dataframe thead th {\n",
       "        text-align: right;\n",
       "    }\n",
       "</style>\n",
       "<table border=\"1\" class=\"dataframe\">\n",
       "  <thead>\n",
       "    <tr style=\"text-align: right;\">\n",
       "      <th></th>\n",
       "      <th>precision</th>\n",
       "      <th>recall</th>\n",
       "      <th>f1-score</th>\n",
       "      <th>support</th>\n",
       "    </tr>\n",
       "  </thead>\n",
       "  <tbody>\n",
       "    <tr>\n",
       "      <th>0</th>\n",
       "      <td>0.693798</td>\n",
       "      <td>0.932292</td>\n",
       "      <td>0.795556</td>\n",
       "      <td>384.000000</td>\n",
       "    </tr>\n",
       "    <tr>\n",
       "      <th>1</th>\n",
       "      <td>0.757009</td>\n",
       "      <td>0.338912</td>\n",
       "      <td>0.468208</td>\n",
       "      <td>239.000000</td>\n",
       "    </tr>\n",
       "    <tr>\n",
       "      <th>accuracy</th>\n",
       "      <td>0.704655</td>\n",
       "      <td>0.704655</td>\n",
       "      <td>0.704655</td>\n",
       "      <td>0.704655</td>\n",
       "    </tr>\n",
       "    <tr>\n",
       "      <th>macro avg</th>\n",
       "      <td>0.725404</td>\n",
       "      <td>0.635602</td>\n",
       "      <td>0.631882</td>\n",
       "      <td>623.000000</td>\n",
       "    </tr>\n",
       "    <tr>\n",
       "      <th>weighted avg</th>\n",
       "      <td>0.718048</td>\n",
       "      <td>0.704655</td>\n",
       "      <td>0.669976</td>\n",
       "      <td>623.000000</td>\n",
       "    </tr>\n",
       "  </tbody>\n",
       "</table>\n",
       "</div>"
      ],
      "text/plain": [
       "              precision    recall  f1-score     support\n",
       "0              0.693798  0.932292  0.795556  384.000000\n",
       "1              0.757009  0.338912  0.468208  239.000000\n",
       "accuracy       0.704655  0.704655  0.704655    0.704655\n",
       "macro avg      0.725404  0.635602  0.631882  623.000000\n",
       "weighted avg   0.718048  0.704655  0.669976  623.000000"
      ]
     },
     "execution_count": 38,
     "metadata": {},
     "output_type": "execute_result"
    }
   ],
   "source": [
    "report = classification_report(y_train, y_pred, output_dict=True)\n",
    "print(\"Tree of 1 depth\")\n",
    "pd.DataFrame(report).T"
   ]
  },
  {
   "cell_type": "code",
   "execution_count": 39,
   "id": "45572435",
   "metadata": {},
   "outputs": [
    {
     "data": {
      "text/plain": [
       "0.6886035313001605"
      ]
     },
     "execution_count": 39,
     "metadata": {},
     "output_type": "execute_result"
    }
   ],
   "source": [
    "knn.score(X_train, y_train)"
   ]
  },
  {
   "cell_type": "code",
   "execution_count": 40,
   "id": "f65b144a",
   "metadata": {},
   "outputs": [
    {
     "data": {
      "text/plain": [
       "0.7089552238805971"
      ]
     },
     "execution_count": 40,
     "metadata": {},
     "output_type": "execute_result"
    }
   ],
   "source": [
    "knn.score(X_val, y_val)"
   ]
  },
  {
   "cell_type": "code",
   "execution_count": 41,
   "id": "afd54dca",
   "metadata": {},
   "outputs": [
    {
     "name": "stdout",
     "output_type": "stream",
     "text": [
      "[[358  26]\n",
      " [158  81]]\n"
     ]
    }
   ],
   "source": [
    "print(confusion_matrix(y_train, y_pred))"
   ]
  },
  {
   "cell_type": "code",
   "execution_count": 42,
   "id": "87a63539",
   "metadata": {},
   "outputs": [
    {
     "name": "stdout",
     "output_type": "stream",
     "text": [
      "              precision    recall  f1-score   support\n",
      "\n",
      "           0       0.69      0.93      0.80       384\n",
      "           1       0.76      0.34      0.47       239\n",
      "\n",
      "    accuracy                           0.70       623\n",
      "   macro avg       0.73      0.64      0.63       623\n",
      "weighted avg       0.72      0.70      0.67       623\n",
      "\n"
     ]
    }
   ],
   "source": [
    "print(classification_report(y_train, y_pred))"
   ]
  },
  {
   "cell_type": "code",
   "execution_count": 43,
   "id": "94403fab",
   "metadata": {},
   "outputs": [
    {
     "data": {
      "text/plain": [
       "0.7046548956661316"
      ]
     },
     "execution_count": 43,
     "metadata": {},
     "output_type": "execute_result"
    }
   ],
   "source": [
    "acc = tree1.score(X_train, y_train)\n",
    "acc"
   ]
  },
  {
   "cell_type": "code",
   "execution_count": 44,
   "id": "ef9dc67f",
   "metadata": {},
   "outputs": [
    {
     "name": "stdout",
     "output_type": "stream",
     "text": [
      "Accuracy of K Neighbors Classifier on training set: 0.70\n"
     ]
    }
   ],
   "source": [
    "print('Accuracy of K Neighbors Classifier on training set: {:.2f}'\n",
    "      .format(tree1.score(X_train, y_train)))"
   ]
  },
  {
   "cell_type": "code",
   "execution_count": 45,
   "id": "d108e887",
   "metadata": {},
   "outputs": [
    {
     "data": {
      "text/plain": [
       "(358, 26, 158, 81)"
      ]
     },
     "execution_count": 45,
     "metadata": {},
     "output_type": "execute_result"
    }
   ],
   "source": [
    "TN, FP, FN, TP = confusion_matrix(y_train, y_pred).ravel()\n",
    "TN, FP, FN, TP"
   ]
  },
  {
   "cell_type": "code",
   "execution_count": 46,
   "id": "f1a8c57c",
   "metadata": {},
   "outputs": [
    {
     "name": "stdout",
     "output_type": "stream",
     "text": [
      "Negative Cases: 384\n",
      "Positive Cases: 239\n",
      "0    384\n",
      "1    239\n",
      "Name: survived, dtype: int64\n"
     ]
    }
   ],
   "source": [
    "negative_cases = TN + FP\n",
    "positive_cases = FN + TP\n",
    "print(f\"Negative Cases: {negative_cases}\")\n",
    "print(f\"Positive Cases: {positive_cases}\")\n",
    "print(y_train.value_counts())"
   ]
  },
  {
   "cell_type": "code",
   "execution_count": 47,
   "id": "0df444af",
   "metadata": {},
   "outputs": [
    {
     "data": {
      "text/plain": [
       "(0.7046548956661316,\n",
       " 0.3389121338912134,\n",
       " 0.06770833333333333,\n",
       " 0.9322916666666666,\n",
       " 0.7570093457943925,\n",
       " 0.4682080924855492,\n",
       " 239,\n",
       " 384)"
      ]
     },
     "execution_count": 47,
     "metadata": {},
     "output_type": "execute_result"
    }
   ],
   "source": [
    "ALL = TP + FP + FN + TN\n",
    "acc = (TP + TN) / ALL\n",
    "\n",
    "TPR = recall = TP/ (TP + FN)\n",
    "\n",
    "FPR = FP / (FP + TN)\n",
    "\n",
    "TNR = TN / (TN + FP)\n",
    "\n",
    "FNR = FN / (FN + TP)\n",
    "\n",
    "precision = TP / (TP + FP)\n",
    "\n",
    "f1_score = 2 * (precision*recall) / (precision+recall)\n",
    "\n",
    "support_pos = TP + FN\n",
    "support_neg = FP + TN\n",
    "\n",
    "acc, TPR, FPR, TNR, precision, f1_score, support_pos, support_neg"
   ]
  },
  {
   "cell_type": "markdown",
   "id": "ceb23a29",
   "metadata": {},
   "source": [
    "5. Run through steps 1-3 setting k to 20"
   ]
  },
  {
   "cell_type": "code",
   "execution_count": 49,
   "id": "295b5c3d",
   "metadata": {},
   "outputs": [],
   "source": [
    "knn = KNeighborsClassifier(n_neighbors=20)        \n",
    "tree1 = knn.fit(X_train, y_train)\n",
    "y_pred = knn.predict(X_train)"
   ]
  },
  {
   "cell_type": "code",
   "execution_count": 50,
   "id": "84212256",
   "metadata": {},
   "outputs": [
    {
     "data": {
      "image/png": "[encoded data removed]",
      "text/plain": [
       "<Figure size 640x480 with 1 Axes>"
      ]
     },
     "metadata": {},
     "output_type": "display_data"
    }
   ],
   "source": [
    "k_range = range(1, 20)\n",
    "scores = []\n",
    "for k in k_range:\n",
    "    knn = KNeighborsClassifier(n_neighbors = k)\n",
    "    knn.fit(X_train, y_train)\n",
    "    scores.append(knn.score(X_test, y_test))\n",
    "plt.figure()\n",
    "plt.xlabel('k')\n",
    "plt.ylabel('accuracy')\n",
    "plt.scatter(k_range, scores)\n",
    "plt.xticks([0,5,10,15,20])\n",
    "plt.show()"
   ]
  },
  {
   "cell_type": "code",
   "execution_count": 51,
   "id": "90b44c0d",
   "metadata": {},
   "outputs": [
    {
     "name": "stdout",
     "output_type": "stream",
     "text": [
      "Tree of 1 depth\n"
     ]
    },
    {
     "data": {
      "text/html": [
       "<div>\n",
       "<style scoped>\n",
       "    .dataframe tbody tr th:only-of-type {\n",
       "        vertical-align: middle;\n",
       "    }\n",
       "\n",
       "    .dataframe tbody tr th {\n",
       "        vertical-align: top;\n",
       "    }\n",
       "\n",
       "    .dataframe thead th {\n",
       "        text-align: right;\n",
       "    }\n",
       "</style>\n",
       "<table border=\"1\" class=\"dataframe\">\n",
       "  <thead>\n",
       "    <tr style=\"text-align: right;\">\n",
       "      <th></th>\n",
       "      <th>precision</th>\n",
       "      <th>recall</th>\n",
       "      <th>f1-score</th>\n",
       "      <th>support</th>\n",
       "    </tr>\n",
       "  </thead>\n",
       "  <tbody>\n",
       "    <tr>\n",
       "      <th>0</th>\n",
       "      <td>0.671533</td>\n",
       "      <td>0.958333</td>\n",
       "      <td>0.789700</td>\n",
       "      <td>384.000000</td>\n",
       "    </tr>\n",
       "    <tr>\n",
       "      <th>1</th>\n",
       "      <td>0.786667</td>\n",
       "      <td>0.246862</td>\n",
       "      <td>0.375796</td>\n",
       "      <td>239.000000</td>\n",
       "    </tr>\n",
       "    <tr>\n",
       "      <th>accuracy</th>\n",
       "      <td>0.685393</td>\n",
       "      <td>0.685393</td>\n",
       "      <td>0.685393</td>\n",
       "      <td>0.685393</td>\n",
       "    </tr>\n",
       "    <tr>\n",
       "      <th>macro avg</th>\n",
       "      <td>0.729100</td>\n",
       "      <td>0.602598</td>\n",
       "      <td>0.582748</td>\n",
       "      <td>623.000000</td>\n",
       "    </tr>\n",
       "    <tr>\n",
       "      <th>weighted avg</th>\n",
       "      <td>0.715701</td>\n",
       "      <td>0.685393</td>\n",
       "      <td>0.630915</td>\n",
       "      <td>623.000000</td>\n",
       "    </tr>\n",
       "  </tbody>\n",
       "</table>\n",
       "</div>"
      ],
      "text/plain": [
       "              precision    recall  f1-score     support\n",
       "0              0.671533  0.958333  0.789700  384.000000\n",
       "1              0.786667  0.246862  0.375796  239.000000\n",
       "accuracy       0.685393  0.685393  0.685393    0.685393\n",
       "macro avg      0.729100  0.602598  0.582748  623.000000\n",
       "weighted avg   0.715701  0.685393  0.630915  623.000000"
      ]
     },
     "execution_count": 51,
     "metadata": {},
     "output_type": "execute_result"
    }
   ],
   "source": [
    "report = classification_report(y_train, y_pred, output_dict=True)\n",
    "print(\"Tree of 1 depth\")\n",
    "pd.DataFrame(report).T"
   ]
  },
  {
   "cell_type": "code",
   "execution_count": 52,
   "id": "768f84da",
   "metadata": {},
   "outputs": [
    {
     "data": {
      "text/plain": [
       "0.6886035313001605"
      ]
     },
     "execution_count": 52,
     "metadata": {},
     "output_type": "execute_result"
    }
   ],
   "source": [
    "knn.score(X_train, y_train)"
   ]
  },
  {
   "cell_type": "code",
   "execution_count": null,
   "id": "2e7d7333",
   "metadata": {},
   "outputs": [],
   "source": [
    "knn.score(X_val, y_val)"
   ]
  },
  {
   "cell_type": "code",
   "execution_count": 53,
   "id": "5ffed398",
   "metadata": {},
   "outputs": [
    {
     "name": "stdout",
     "output_type": "stream",
     "text": [
      "[[368  16]\n",
      " [180  59]]\n"
     ]
    }
   ],
   "source": [
    "print(confusion_matrix(y_train, y_pred))"
   ]
  },
  {
   "cell_type": "code",
   "execution_count": 54,
   "id": "d87b034e",
   "metadata": {},
   "outputs": [
    {
     "name": "stdout",
     "output_type": "stream",
     "text": [
      "              precision    recall  f1-score   support\n",
      "\n",
      "           0       0.67      0.96      0.79       384\n",
      "           1       0.79      0.25      0.38       239\n",
      "\n",
      "    accuracy                           0.69       623\n",
      "   macro avg       0.73      0.60      0.58       623\n",
      "weighted avg       0.72      0.69      0.63       623\n",
      "\n"
     ]
    }
   ],
   "source": [
    "print(classification_report(y_train, y_pred))"
   ]
  },
  {
   "cell_type": "code",
   "execution_count": 55,
   "id": "eb1f7aad",
   "metadata": {},
   "outputs": [
    {
     "data": {
      "text/plain": [
       "(368, 16, 180, 59)"
      ]
     },
     "execution_count": 55,
     "metadata": {},
     "output_type": "execute_result"
    }
   ],
   "source": [
    "TN, FP, FN, TP = confusion_matrix(y_train, y_pred).ravel()\n",
    "TN, FP, FN, TP"
   ]
  },
  {
   "cell_type": "code",
   "execution_count": 56,
   "id": "d2043aa0",
   "metadata": {},
   "outputs": [
    {
     "name": "stdout",
     "output_type": "stream",
     "text": [
      "Negative Cases: 384\n",
      "Positive Cases: 239\n",
      "0    384\n",
      "1    239\n",
      "Name: survived, dtype: int64\n"
     ]
    }
   ],
   "source": [
    "negative_cases = TN + FP\n",
    "positive_cases = FN + TP\n",
    "print(f\"Negative Cases: {negative_cases}\")\n",
    "print(f\"Positive Cases: {positive_cases}\")\n",
    "print(y_train.value_counts())"
   ]
  },
  {
   "cell_type": "code",
   "execution_count": 57,
   "id": "d2622d63",
   "metadata": {},
   "outputs": [
    {
     "data": {
      "text/plain": [
       "(0.6853932584269663,\n",
       " 0.24686192468619247,\n",
       " 0.041666666666666664,\n",
       " 0.9583333333333334,\n",
       " 0.7866666666666666,\n",
       " 0.375796178343949,\n",
       " 239,\n",
       " 384)"
      ]
     },
     "execution_count": 57,
     "metadata": {},
     "output_type": "execute_result"
    }
   ],
   "source": [
    "ALL = TP + FP + FN + TN\n",
    "acc = (TP + TN) / ALL\n",
    "\n",
    "TPR = recall = TP/ (TP + FN)\n",
    "\n",
    "FPR = FP / (FP + TN)\n",
    "\n",
    "TNR = TN / (TN + FP)\n",
    "\n",
    "FNR = FN / (FN + TP)\n",
    "\n",
    "precision = TP / (TP + FP)\n",
    "\n",
    "f1_score = 2 * (precision*recall) / (precision+recall)\n",
    "\n",
    "support_pos = TP + FN\n",
    "support_neg = FP + TN\n",
    "\n",
    "acc, TPR, FPR, TNR, precision, f1_score, support_pos, support_neg"
   ]
  },
  {
   "cell_type": "markdown",
   "id": "fe097b14",
   "metadata": {},
   "source": [
    "6. What are the differences in the evaluation metrics? Which performs better on your in-sample data? Why?"
   ]
  },
  {
   "cell_type": "code",
   "execution_count": 60,
   "id": "e36127f1",
   "metadata": {},
   "outputs": [
    {
     "name": "stdout",
     "output_type": "stream",
     "text": [
      "Tree with n_neighbors of 1\n",
      "               0      1  accuracy  macro avg  weighted avg\n",
      "precision    1.0    1.0       1.0        1.0           1.0\n",
      "recall       1.0    1.0       1.0        1.0           1.0\n",
      "f1-score     1.0    1.0       1.0        1.0           1.0\n",
      "support    384.0  239.0       1.0      623.0         623.0\n",
      "\n",
      "Tree with n_neighbors of 2\n",
      "                    0           1  accuracy   macro avg  weighted avg\n",
      "precision    0.744186    1.000000  0.788122    0.872093      0.842323\n",
      "recall       1.000000    0.447699  0.788122    0.723849      0.788122\n",
      "f1-score     0.853333    0.618497  0.788122    0.735915      0.763244\n",
      "support    384.000000  239.000000  0.788122  623.000000    623.000000\n",
      "\n",
      "Tree with n_neighbors of 3\n",
      "                    0           1  accuracy   macro avg  weighted avg\n",
      "precision    0.800481    0.753623  0.784912    0.777052      0.782505\n",
      "recall       0.867188    0.652720  0.784912    0.759954      0.784912\n",
      "f1-score     0.832500    0.699552  0.784912    0.766026      0.781497\n",
      "support    384.000000  239.000000  0.784912  623.000000    623.000000\n",
      "\n",
      "Tree with n_neighbors of 4\n",
      "                    0           1  accuracy   macro avg  weighted avg\n",
      "precision    0.719368    0.829060  0.739968    0.774214      0.761449\n",
      "recall       0.947917    0.405858  0.739968    0.676887      0.739968\n",
      "f1-score     0.817978    0.544944  0.739968    0.681461      0.713234\n",
      "support    384.000000  239.000000  0.739968  623.000000    623.000000\n",
      "\n",
      "Tree with n_neighbors of 5\n",
      "                    0           1  accuracy   macro avg  weighted avg\n",
      "precision    0.743875    0.712644  0.735152    0.728259      0.731894\n",
      "recall       0.869792    0.518828  0.735152    0.694310      0.735152\n",
      "f1-score     0.801921    0.600484  0.735152    0.701203      0.724644\n",
      "support    384.000000  239.000000  0.735152  623.000000    623.000000\n",
      "\n",
      "Tree with n_neighbors of 6\n",
      "                    0           1  accuracy   macro avg  weighted avg\n",
      "precision    0.702335    0.788991  0.717496    0.745663      0.735578\n",
      "recall       0.940104    0.359833  0.717496    0.649968      0.717496\n",
      "f1-score     0.804009    0.494253  0.717496    0.649131      0.685178\n",
      "support    384.000000  239.000000  0.717496  623.000000    623.000000\n",
      "\n",
      "Tree with n_neighbors of 7\n",
      "                    0           1  accuracy   macro avg  weighted avg\n",
      "precision    0.726115    0.723684  0.725522    0.724899      0.725182\n",
      "recall       0.890625    0.460251  0.725522    0.675438      0.725522\n",
      "f1-score     0.800000    0.562660  0.725522    0.681330      0.708950\n",
      "support    384.000000  239.000000  0.725522  623.000000    623.000000\n",
      "\n",
      "Tree with n_neighbors of 8\n",
      "                    0           1  accuracy   macro avg  weighted avg\n",
      "precision    0.700000    0.761062  0.711075    0.730531      0.723425\n",
      "recall       0.929688    0.359833  0.711075    0.644760      0.711075\n",
      "f1-score     0.798658    0.488636  0.711075    0.643647      0.679725\n",
      "support    384.000000  239.000000  0.711075  623.000000    623.000000\n",
      "\n",
      "Tree with n_neighbors of 9\n",
      "                    0           1  accuracy   macro avg  weighted avg\n",
      "precision    0.711253    0.677632   0.70305    0.694442      0.698355\n",
      "recall       0.872396    0.430962   0.70305    0.651679      0.703050\n",
      "f1-score     0.783626    0.526854   0.70305    0.655240      0.685121\n",
      "support    384.000000  239.000000   0.70305  623.000000    623.000000\n",
      "\n",
      "Tree with n_neighbors of 10\n",
      "                    0           1  accuracy   macro avg  weighted avg\n",
      "precision    0.693798    0.757009  0.704655    0.725404      0.718048\n",
      "recall       0.932292    0.338912  0.704655    0.635602      0.704655\n",
      "f1-score     0.795556    0.468208  0.704655    0.631882      0.669976\n",
      "support    384.000000  239.000000  0.704655  623.000000    623.000000\n",
      "\n",
      "Tree with n_neighbors of 11\n",
      "                    0           1  accuracy   macro avg  weighted avg\n",
      "precision    0.707368    0.675676  0.699839    0.691522      0.695210\n",
      "recall       0.875000    0.418410  0.699839    0.646705      0.699839\n",
      "f1-score     0.782305    0.516796  0.699839    0.649550      0.680448\n",
      "support    384.000000  239.000000  0.699839  623.000000    623.000000\n",
      "\n",
      "Tree with n_neighbors of 12\n",
      "                    0           1  accuracy   macro avg  weighted avg\n",
      "precision    0.685328    0.723810  0.691814    0.704569      0.700091\n",
      "recall       0.924479    0.317992  0.691814    0.621235      0.691814\n",
      "f1-score     0.787140    0.441860  0.691814    0.614500      0.654681\n",
      "support    384.000000  239.000000  0.691814  623.000000    623.000000\n",
      "\n",
      "Tree with n_neighbors of 13\n",
      "                    0           1  accuracy   macro avg  weighted avg\n",
      "precision    0.694045    0.661765  0.686998    0.677905      0.681661\n",
      "recall       0.880208    0.376569  0.686998    0.628389      0.686998\n",
      "f1-score     0.776119    0.480000  0.686998    0.628060      0.662520\n",
      "support    384.000000  239.000000  0.686998  623.000000    623.000000\n",
      "\n",
      "Tree with n_neighbors of 14\n",
      "                    0           1  accuracy   macro avg  weighted avg\n",
      "precision    0.680000    0.724490  0.686998    0.702245      0.697068\n",
      "recall       0.929688    0.297071  0.686998    0.613379      0.686998\n",
      "f1-score     0.785479    0.421365  0.686998    0.603422      0.645795\n",
      "support    384.000000  239.000000  0.686998  623.000000    623.000000\n",
      "\n",
      "Tree with n_neighbors of 15\n",
      "                    0           1  accuracy   macro avg  weighted avg\n",
      "precision    0.691406    0.729730  0.698234    0.710568      0.706108\n",
      "recall       0.921875    0.338912  0.698234    0.630394      0.698234\n",
      "f1-score     0.790179    0.462857  0.698234    0.626518      0.664609\n",
      "support    384.000000  239.000000  0.698234  623.000000    623.000000\n",
      "\n",
      "Tree with n_neighbors of 16\n",
      "                    0           1  accuracy   macro avg  weighted avg\n",
      "precision    0.679104    0.770115  0.691814    0.724610      0.714019\n",
      "recall       0.947917    0.280335  0.691814    0.614126      0.691814\n",
      "f1-score     0.791304    0.411043  0.691814    0.601174      0.645426\n",
      "support    384.000000  239.000000  0.691814  623.000000    623.000000\n",
      "\n",
      "Tree with n_neighbors of 17\n",
      "                    0           1  accuracy   macro avg  weighted avg\n",
      "precision    0.683810    0.744898  0.693419    0.714354      0.707245\n",
      "recall       0.934896    0.305439  0.693419    0.620168      0.693419\n",
      "f1-score     0.789879    0.433234  0.693419    0.611557      0.653060\n",
      "support    384.000000  239.000000  0.693419  623.000000    623.000000\n",
      "\n",
      "Tree with n_neighbors of 18\n",
      "                    0           1  accuracy   macro avg  weighted avg\n",
      "precision    0.675277    0.777778  0.688604    0.726527      0.714599\n",
      "recall       0.953125    0.263598  0.688604    0.608362      0.688604\n",
      "f1-score     0.790497    0.393750  0.688604    0.592123      0.638294\n",
      "support    384.000000  239.000000  0.688604  623.000000    623.000000\n",
      "\n",
      "Tree with n_neighbors of 19\n",
      "                    0           1  accuracy   macro avg  weighted avg\n",
      "precision    0.679245    0.741935  0.688604    0.710590      0.703295\n",
      "recall       0.937500    0.288703  0.688604    0.613101      0.688604\n",
      "f1-score     0.787746    0.415663  0.688604    0.601704      0.645005\n",
      "support    384.000000  239.000000  0.688604  623.000000    623.000000\n",
      "\n",
      "Tree with n_neighbors of 20\n",
      "                    0           1  accuracy   macro avg  weighted avg\n",
      "precision    0.671533    0.786667  0.685393    0.729100      0.715701\n",
      "recall       0.958333    0.246862  0.685393    0.602598      0.685393\n",
      "f1-score     0.789700    0.375796  0.685393    0.582748      0.630915\n",
      "support    384.000000  239.000000  0.685393  623.000000    623.000000\n",
      "\n"
     ]
    }
   ],
   "source": [
    "for i in range(1, 21):\n",
    "    \n",
    "    trees = KNeighborsClassifier(n_neighbors=i)\n",
    "\n",
    "    trees = trees.fit(X_train, y_train)\n",
    "\n",
    "    y_pred = trees.predict(X_train)\n",
    "\n",
    "    report = classification_report(y_train, y_pred, output_dict=True)\n",
    "    print(f\"Tree with n_neighbors of {i}\")\n",
    "    print(pd.DataFrame(report))\n",
    "    print()"
   ]
  },
  {
   "cell_type": "markdown",
   "id": "29656763",
   "metadata": {},
   "source": [
    "Trees with n_neighbors of two or three appears to have the best accuracy, but may not make them the best model. Based on the information above the model with neighbors of 2-3 have the highest accuracy."
   ]
  },
  {
   "cell_type": "markdown",
   "id": "1e5a6ed5",
   "metadata": {},
   "source": [
    "7. Which model performs best on our out-of-sample data from validate?"
   ]
  },
  {
   "cell_type": "code",
   "execution_count": 61,
   "id": "3e0475b6",
   "metadata": {},
   "outputs": [
    {
     "data": {
      "text/html": [
       "<div>\n",
       "<style scoped>\n",
       "    .dataframe tbody tr th:only-of-type {\n",
       "        vertical-align: middle;\n",
       "    }\n",
       "\n",
       "    .dataframe tbody tr th {\n",
       "        vertical-align: top;\n",
       "    }\n",
       "\n",
       "    .dataframe thead th {\n",
       "        text-align: right;\n",
       "    }\n",
       "</style>\n",
       "<table border=\"1\" class=\"dataframe\">\n",
       "  <thead>\n",
       "    <tr style=\"text-align: right;\">\n",
       "      <th></th>\n",
       "      <th>n_neighbors</th>\n",
       "      <th>train_accuracy</th>\n",
       "      <th>validate_accuracy</th>\n",
       "      <th>difference</th>\n",
       "    </tr>\n",
       "  </thead>\n",
       "  <tbody>\n",
       "    <tr>\n",
       "      <th>0</th>\n",
       "      <td>1</td>\n",
       "      <td>1.000000</td>\n",
       "      <td>0.671642</td>\n",
       "      <td>0.328358</td>\n",
       "    </tr>\n",
       "    <tr>\n",
       "      <th>1</th>\n",
       "      <td>2</td>\n",
       "      <td>0.788122</td>\n",
       "      <td>0.649254</td>\n",
       "      <td>0.138868</td>\n",
       "    </tr>\n",
       "    <tr>\n",
       "      <th>2</th>\n",
       "      <td>3</td>\n",
       "      <td>0.784912</td>\n",
       "      <td>0.641791</td>\n",
       "      <td>0.143121</td>\n",
       "    </tr>\n",
       "    <tr>\n",
       "      <th>3</th>\n",
       "      <td>4</td>\n",
       "      <td>0.739968</td>\n",
       "      <td>0.649254</td>\n",
       "      <td>0.090714</td>\n",
       "    </tr>\n",
       "    <tr>\n",
       "      <th>4</th>\n",
       "      <td>5</td>\n",
       "      <td>0.735152</td>\n",
       "      <td>0.649254</td>\n",
       "      <td>0.085899</td>\n",
       "    </tr>\n",
       "    <tr>\n",
       "      <th>5</th>\n",
       "      <td>6</td>\n",
       "      <td>0.717496</td>\n",
       "      <td>0.641791</td>\n",
       "      <td>0.075705</td>\n",
       "    </tr>\n",
       "    <tr>\n",
       "      <th>6</th>\n",
       "      <td>7</td>\n",
       "      <td>0.725522</td>\n",
       "      <td>0.641791</td>\n",
       "      <td>0.083731</td>\n",
       "    </tr>\n",
       "    <tr>\n",
       "      <th>7</th>\n",
       "      <td>8</td>\n",
       "      <td>0.711075</td>\n",
       "      <td>0.671642</td>\n",
       "      <td>0.039434</td>\n",
       "    </tr>\n",
       "    <tr>\n",
       "      <th>8</th>\n",
       "      <td>9</td>\n",
       "      <td>0.703050</td>\n",
       "      <td>0.671642</td>\n",
       "      <td>0.031408</td>\n",
       "    </tr>\n",
       "    <tr>\n",
       "      <th>9</th>\n",
       "      <td>10</td>\n",
       "      <td>0.704655</td>\n",
       "      <td>0.686567</td>\n",
       "      <td>0.018088</td>\n",
       "    </tr>\n",
       "    <tr>\n",
       "      <th>10</th>\n",
       "      <td>11</td>\n",
       "      <td>0.699839</td>\n",
       "      <td>0.671642</td>\n",
       "      <td>0.028198</td>\n",
       "    </tr>\n",
       "    <tr>\n",
       "      <th>11</th>\n",
       "      <td>12</td>\n",
       "      <td>0.691814</td>\n",
       "      <td>0.694030</td>\n",
       "      <td>-0.002216</td>\n",
       "    </tr>\n",
       "    <tr>\n",
       "      <th>12</th>\n",
       "      <td>13</td>\n",
       "      <td>0.686998</td>\n",
       "      <td>0.679104</td>\n",
       "      <td>0.007894</td>\n",
       "    </tr>\n",
       "    <tr>\n",
       "      <th>13</th>\n",
       "      <td>14</td>\n",
       "      <td>0.686998</td>\n",
       "      <td>0.708955</td>\n",
       "      <td>-0.021957</td>\n",
       "    </tr>\n",
       "    <tr>\n",
       "      <th>14</th>\n",
       "      <td>15</td>\n",
       "      <td>0.698234</td>\n",
       "      <td>0.701493</td>\n",
       "      <td>-0.003258</td>\n",
       "    </tr>\n",
       "    <tr>\n",
       "      <th>15</th>\n",
       "      <td>16</td>\n",
       "      <td>0.691814</td>\n",
       "      <td>0.694030</td>\n",
       "      <td>-0.002216</td>\n",
       "    </tr>\n",
       "    <tr>\n",
       "      <th>16</th>\n",
       "      <td>17</td>\n",
       "      <td>0.693419</td>\n",
       "      <td>0.723881</td>\n",
       "      <td>-0.030462</td>\n",
       "    </tr>\n",
       "    <tr>\n",
       "      <th>17</th>\n",
       "      <td>18</td>\n",
       "      <td>0.688604</td>\n",
       "      <td>0.694030</td>\n",
       "      <td>-0.005426</td>\n",
       "    </tr>\n",
       "    <tr>\n",
       "      <th>18</th>\n",
       "      <td>19</td>\n",
       "      <td>0.688604</td>\n",
       "      <td>0.708955</td>\n",
       "      <td>-0.020352</td>\n",
       "    </tr>\n",
       "    <tr>\n",
       "      <th>19</th>\n",
       "      <td>20</td>\n",
       "      <td>0.685393</td>\n",
       "      <td>0.701493</td>\n",
       "      <td>-0.016099</td>\n",
       "    </tr>\n",
       "    <tr>\n",
       "      <th>20</th>\n",
       "      <td>21</td>\n",
       "      <td>0.683788</td>\n",
       "      <td>0.723881</td>\n",
       "      <td>-0.040092</td>\n",
       "    </tr>\n",
       "    <tr>\n",
       "      <th>21</th>\n",
       "      <td>22</td>\n",
       "      <td>0.682183</td>\n",
       "      <td>0.716418</td>\n",
       "      <td>-0.034235</td>\n",
       "    </tr>\n",
       "    <tr>\n",
       "      <th>22</th>\n",
       "      <td>23</td>\n",
       "      <td>0.683788</td>\n",
       "      <td>0.708955</td>\n",
       "      <td>-0.025167</td>\n",
       "    </tr>\n",
       "    <tr>\n",
       "      <th>23</th>\n",
       "      <td>24</td>\n",
       "      <td>0.683788</td>\n",
       "      <td>0.708955</td>\n",
       "      <td>-0.025167</td>\n",
       "    </tr>\n",
       "  </tbody>\n",
       "</table>\n",
       "</div>"
      ],
      "text/plain": [
       "    n_neighbors  train_accuracy  validate_accuracy  difference\n",
       "0             1        1.000000           0.671642    0.328358\n",
       "1             2        0.788122           0.649254    0.138868\n",
       "2             3        0.784912           0.641791    0.143121\n",
       "3             4        0.739968           0.649254    0.090714\n",
       "4             5        0.735152           0.649254    0.085899\n",
       "5             6        0.717496           0.641791    0.075705\n",
       "6             7        0.725522           0.641791    0.083731\n",
       "7             8        0.711075           0.671642    0.039434\n",
       "8             9        0.703050           0.671642    0.031408\n",
       "9            10        0.704655           0.686567    0.018088\n",
       "10           11        0.699839           0.671642    0.028198\n",
       "11           12        0.691814           0.694030   -0.002216\n",
       "12           13        0.686998           0.679104    0.007894\n",
       "13           14        0.686998           0.708955   -0.021957\n",
       "14           15        0.698234           0.701493   -0.003258\n",
       "15           16        0.691814           0.694030   -0.002216\n",
       "16           17        0.693419           0.723881   -0.030462\n",
       "17           18        0.688604           0.694030   -0.005426\n",
       "18           19        0.688604           0.708955   -0.020352\n",
       "19           20        0.685393           0.701493   -0.016099\n",
       "20           21        0.683788           0.723881   -0.040092\n",
       "21           22        0.682183           0.716418   -0.034235\n",
       "22           23        0.683788           0.708955   -0.025167\n",
       "23           24        0.683788           0.708955   -0.025167"
      ]
     },
     "execution_count": 61,
     "metadata": {},
     "output_type": "execute_result"
    }
   ],
   "source": [
    "metrics = []\n",
    "\n",
    "for i in range(1, 25):\n",
    "    tree = KNeighborsClassifier(n_neighbors=i)\n",
    "\n",
    "    tree = tree.fit(X_train, y_train)\n",
    "\n",
    "    in_sample_accuracy = tree.score(X_train, y_train)\n",
    "    \n",
    "    out_of_sample_accuracy = tree.score(X_val, y_val)\n",
    "\n",
    "    output = {\n",
    "        \"n_neighbors\": i,\n",
    "        \"train_accuracy\": in_sample_accuracy,\n",
    "        \"validate_accuracy\": out_of_sample_accuracy\n",
    "    }\n",
    "    \n",
    "    metrics.append(output)\n",
    "    \n",
    "df = pd.DataFrame(metrics)\n",
    "df[\"difference\"] = df.train_accuracy - df.validate_accuracy\n",
    "df"
   ]
  },
  {
   "cell_type": "markdown",
   "id": "051de896",
   "metadata": {},
   "source": [
    "Models with n_neighbors of 17 or 21 have the highest accuracy but the model with n_neighbor of 12 has the best differential and may be the best model."
   ]
  },
  {
   "cell_type": "code",
   "execution_count": 64,
   "id": "ec5663e5",
   "metadata": {},
   "outputs": [
    {
     "data": {
      "image/png": "[encoded data removed]",
      "text/plain": [
       "<Figure size 1200x600 with 1 Axes>"
      ]
     },
     "metadata": {},
     "output_type": "display_data"
    }
   ],
   "source": [
    "plt.figure(figsize=(12, 6))\n",
    "plt.plot(df.n_neighbors, df.train_accuracy, marker = 'o', label = 'Train')\n",
    "plt.plot(df.n_neighbors, df.validate_accuracy, marker = 'o', label = 'Validate')\n",
    "plt.title('Overfitting Occurs at Lower Values for n_neighbors')\n",
    "plt.xlabel('N Neighbors')\n",
    "plt.ylabel('Accuracy')\n",
    "plt.legend()\n",
    "plt.show()"
   ]
  },
  {
   "cell_type": "code",
   "execution_count": null,
   "id": "17ce22c0",
   "metadata": {},
   "outputs": [],
   "source": []
  }
 ],
 "metadata": {
  "kernelspec": {
   "display_name": "Python 3 (ipykernel)",
   "language": "python",
   "name": "python3"
  },
  "language_info": {
   "codemirror_mode": {
    "name": "ipython",
    "version": 3
   },
   "file_extension": ".py",
   "mimetype": "text/x-python",
   "name": "python",
   "nbconvert_exporter": "python",
   "pygments_lexer": "ipython3",
   "version": "3.9.13"
  }
 },
 "nbformat": 4,
 "nbformat_minor": 5
}
