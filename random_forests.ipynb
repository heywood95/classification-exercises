{
 "cells": [
  {
   "cell_type": "markdown",
   "id": "65d7553e",
   "metadata": {},
   "source": [
    "# Exercises - Random Forests\n",
    "\n",
    "\n",
    "Create a new notebook, random_forests, and work with titanic data to do the following:\n",
    "\n"
   ]
  },
  {
   "cell_type": "code",
   "execution_count": 10,
   "id": "2820fb19",
   "metadata": {},
   "outputs": [
    {
     "data": {
      "text/html": [
       "<div>\n",
       "<style scoped>\n",
       "    .dataframe tbody tr th:only-of-type {\n",
       "        vertical-align: middle;\n",
       "    }\n",
       "\n",
       "    .dataframe tbody tr th {\n",
       "        vertical-align: top;\n",
       "    }\n",
       "\n",
       "    .dataframe thead th {\n",
       "        text-align: right;\n",
       "    }\n",
       "</style>\n",
       "<table border=\"1\" class=\"dataframe\">\n",
       "  <thead>\n",
       "    <tr style=\"text-align: right;\">\n",
       "      <th></th>\n",
       "      <th>passenger_id</th>\n",
       "      <th>survived</th>\n",
       "      <th>pclass</th>\n",
       "      <th>sex</th>\n",
       "      <th>age</th>\n",
       "      <th>sibsp</th>\n",
       "      <th>parch</th>\n",
       "      <th>fare</th>\n",
       "      <th>embarked</th>\n",
       "      <th>class</th>\n",
       "      <th>deck</th>\n",
       "      <th>embark_town</th>\n",
       "      <th>alone</th>\n",
       "    </tr>\n",
       "  </thead>\n",
       "  <tbody>\n",
       "    <tr>\n",
       "      <th>0</th>\n",
       "      <td>0</td>\n",
       "      <td>0</td>\n",
       "      <td>3</td>\n",
       "      <td>male</td>\n",
       "      <td>22.0</td>\n",
       "      <td>1</td>\n",
       "      <td>0</td>\n",
       "      <td>7.2500</td>\n",
       "      <td>S</td>\n",
       "      <td>Third</td>\n",
       "      <td>None</td>\n",
       "      <td>Southampton</td>\n",
       "      <td>0</td>\n",
       "    </tr>\n",
       "    <tr>\n",
       "      <th>1</th>\n",
       "      <td>1</td>\n",
       "      <td>1</td>\n",
       "      <td>1</td>\n",
       "      <td>female</td>\n",
       "      <td>38.0</td>\n",
       "      <td>1</td>\n",
       "      <td>0</td>\n",
       "      <td>71.2833</td>\n",
       "      <td>C</td>\n",
       "      <td>First</td>\n",
       "      <td>C</td>\n",
       "      <td>Cherbourg</td>\n",
       "      <td>0</td>\n",
       "    </tr>\n",
       "  </tbody>\n",
       "</table>\n",
       "</div>"
      ],
      "text/plain": [
       "   passenger_id  survived  pclass     sex   age  sibsp  parch     fare  \\\n",
       "0             0         0       3    male  22.0      1      0   7.2500   \n",
       "1             1         1       1  female  38.0      1      0  71.2833   \n",
       "\n",
       "  embarked  class  deck  embark_town  alone  \n",
       "0        S  Third  None  Southampton      0  \n",
       "1        C  First     C    Cherbourg      0  "
      ]
     },
     "execution_count": 10,
     "metadata": {},
     "output_type": "execute_result"
    }
   ],
   "source": [
    "import warnings\n",
    "warnings.filterwarnings(\"ignore\")\n",
    "\n",
    "import numpy as np\n",
    "\n",
    "from pydataset import data\n",
    "\n",
    "from sklearn.model_selection import train_test_split\n",
    "from sklearn.tree import DecisionTreeClassifier, plot_tree\n",
    "from sklearn.metrics import classification_report\n",
    "from sklearn.metrics import confusion_matrix\n",
    "from sklearn.ensemble import RandomForestClassifier\n",
    "\n",
    "import matplotlib.pyplot as plt\n",
    "import seaborn as sns\n",
    "import pandas as pd\n",
    "\n",
    "import env\n",
    "\n",
    "def get_connection(db, username=env.username, host=env.host, password=env.password):\n",
    "    return f'mysql+pymysql://{username}:{password}@{host}/{db}'\n",
    "\n",
    "def get_titanic():\n",
    "    my_query=\"SELECT * FROM passengers\"\n",
    "    titanic = pd.read_sql(my_query, get_connection('titanic_db'))\n",
    "    return titanic\n",
    "\n",
    "titanic = get_titanic()\n",
    "titanic.head(2)\n",
    "\n"
   ]
  },
  {
   "cell_type": "code",
   "execution_count": 11,
   "id": "6f89dcfe",
   "metadata": {},
   "outputs": [],
   "source": [
    "def prep_titanic(df):\n",
    "    \n",
    "    cols_to_drop = ['deck', 'embarked', 'class', 'age']\n",
    "    titanic = df.drop(columns=cols_to_drop)\n",
    "    dummy_titanic = pd.get_dummies(titanic[['sex','embark_town']], dummy_na=False, drop_first=[True, True])\n",
    "    titanic = pd.concat([titanic, dummy_titanic], axis=1)\n",
    "    titanic.dropna()\n",
    "    return titanic"
   ]
  },
  {
   "cell_type": "code",
   "execution_count": 12,
   "id": "2cd3583c",
   "metadata": {},
   "outputs": [],
   "source": [
    "titanic = prep_titanic(titanic)"
   ]
  },
  {
   "cell_type": "code",
   "execution_count": 34,
   "id": "7dd2612f",
   "metadata": {},
   "outputs": [],
   "source": [
    "cols_to_drop = ['sex', 'embark_town']\n",
    "titanic = titanic.drop(columns=cols_to_drop)"
   ]
  },
  {
   "cell_type": "code",
   "execution_count": 36,
   "id": "d81f5d4e",
   "metadata": {},
   "outputs": [],
   "source": [
    "def train_val_test(df, target, seed=42):\n",
    "    \n",
    "    train, val_test = train_test_split(df, train_size=0.7, random_state=seed, stratify=df[target])\n",
    "    \n",
    "    val, test = train_test_split(val_test, train_size=0.5, random_state=seed, stratify=val_test[target])\n",
    "    \n",
    "    return train, val, test"
   ]
  },
  {
   "cell_type": "code",
   "execution_count": 37,
   "id": "0e95ab78",
   "metadata": {},
   "outputs": [
    {
     "data": {
      "text/plain": [
       "((623, 10), (134, 10), (134, 10))"
      ]
     },
     "execution_count": 37,
     "metadata": {},
     "output_type": "execute_result"
    }
   ],
   "source": [
    "train, val, test = train_val_test(titanic, 'survived')\n",
    "train.shape, val.shape, test.shape"
   ]
  },
  {
   "cell_type": "code",
   "execution_count": 38,
   "id": "5717181f",
   "metadata": {},
   "outputs": [],
   "source": [
    "X_train = train.drop(columns=['survived'])\n",
    "y_train = train['survived']\n",
    "\n",
    "X_val = val.drop(columns=['survived'])\n",
    "y_val = val['survived']\n",
    "\n",
    "X_test = test.drop(columns=['survived'])\n",
    "y_test = test['survived']"
   ]
  },
  {
   "cell_type": "markdown",
   "id": "80140645",
   "metadata": {},
   "source": [
    "1. Fit the Random Forest classifier to your training sample and transform (i.e. make predictions on the training sample) setting the random_state accordingly and setting min_samples_leaf = 1 and max_depth = 10."
   ]
  },
  {
   "cell_type": "code",
   "execution_count": 39,
   "id": "862c0a33",
   "metadata": {},
   "outputs": [],
   "source": [
    "seed = 42\n",
    "rf = RandomForestClassifier(max_depth=10, random_state=42, min_samples_leaf=1)\n"
   ]
  },
  {
   "cell_type": "code",
   "execution_count": 40,
   "id": "b460f5da",
   "metadata": {},
   "outputs": [
    {
     "data": {
      "text/plain": [
       "RandomForestClassifier(max_depth=10, random_state=42)"
      ]
     },
     "execution_count": 40,
     "metadata": {},
     "output_type": "execute_result"
    }
   ],
   "source": [
    "rf.fit(X_train, y_train)"
   ]
  },
  {
   "cell_type": "code",
   "execution_count": 41,
   "id": "e45773b6",
   "metadata": {},
   "outputs": [],
   "source": [
    "y_pred = rf.predict(X_train)"
   ]
  },
  {
   "cell_type": "code",
   "execution_count": 42,
   "id": "d52cb557",
   "metadata": {},
   "outputs": [
    {
     "name": "stdout",
     "output_type": "stream",
     "text": [
      "[0.22769936 0.09356345 0.04264219 0.04971603 0.23901161 0.01924148\n",
      " 0.29016238 0.01119701 0.02676649]\n"
     ]
    }
   ],
   "source": [
    "print(rf.feature_importances_)"
   ]
  },
  {
   "cell_type": "code",
   "execution_count": 43,
   "id": "4f45e867",
   "metadata": {},
   "outputs": [
    {
     "data": {
      "text/plain": [
       "array([[0.61543981, 0.38456019],\n",
       "       [0.93832839, 0.06167161],\n",
       "       [0.04264344, 0.95735656],\n",
       "       ...,\n",
       "       [0.89955556, 0.10044444],\n",
       "       [0.86777487, 0.13222513],\n",
       "       [0.04812709, 0.95187291]])"
      ]
     },
     "execution_count": 43,
     "metadata": {},
     "output_type": "execute_result"
    }
   ],
   "source": [
    "y_pred_proba = rf.predict_proba(X_train)\n",
    "y_pred_proba"
   ]
  },
  {
   "cell_type": "markdown",
   "id": "70507e4a",
   "metadata": {},
   "source": [
    "2. Evaluate your results using the model score, confusion matrix, and classification report."
   ]
  },
  {
   "cell_type": "code",
   "execution_count": 44,
   "id": "1286a821",
   "metadata": {},
   "outputs": [
    {
     "name": "stdout",
     "output_type": "stream",
     "text": [
      "Accuracy of random forest classifier on training set: 0.96\n"
     ]
    }
   ],
   "source": [
    "print('Accuracy of random forest classifier on training set: {:.2f}'\n",
    "     .format(rf.score(X_train, y_train)))"
   ]
  },
  {
   "cell_type": "code",
   "execution_count": 45,
   "id": "03df72c1",
   "metadata": {},
   "outputs": [
    {
     "name": "stdout",
     "output_type": "stream",
     "text": [
      "[[382   2]\n",
      " [ 23 216]]\n"
     ]
    }
   ],
   "source": [
    "print(confusion_matrix(y_train, y_pred))"
   ]
  },
  {
   "cell_type": "code",
   "execution_count": 46,
   "id": "20a839ec",
   "metadata": {},
   "outputs": [
    {
     "name": "stdout",
     "output_type": "stream",
     "text": [
      "              precision    recall  f1-score   support\n",
      "\n",
      "           0       0.94      0.99      0.97       384\n",
      "           1       0.99      0.90      0.95       239\n",
      "\n",
      "    accuracy                           0.96       623\n",
      "   macro avg       0.97      0.95      0.96       623\n",
      "weighted avg       0.96      0.96      0.96       623\n",
      "\n"
     ]
    }
   ],
   "source": [
    "print(classification_report(y_train, y_pred))"
   ]
  },
  {
   "cell_type": "code",
   "execution_count": 47,
   "id": "2bd789ea",
   "metadata": {},
   "outputs": [
    {
     "name": "stdout",
     "output_type": "stream",
     "text": [
      "Accuracy of random forest classifier on test set: 0.79\n"
     ]
    }
   ],
   "source": [
    "print('Accuracy of random forest classifier on test set: {:.2f}'\n",
    "     .format(rf.score(X_val, y_val)))"
   ]
  },
  {
   "cell_type": "code",
   "execution_count": 48,
   "id": "8f74cae9",
   "metadata": {},
   "outputs": [
    {
     "data": {
      "text/plain": [
       "0.9598715890850722"
      ]
     },
     "execution_count": 48,
     "metadata": {},
     "output_type": "execute_result"
    }
   ],
   "source": [
    "rf.score(X_train, y_train)"
   ]
  },
  {
   "cell_type": "code",
   "execution_count": 49,
   "id": "113381aa",
   "metadata": {},
   "outputs": [
    {
     "data": {
      "text/plain": [
       "0.7910447761194029"
      ]
     },
     "execution_count": 49,
     "metadata": {},
     "output_type": "execute_result"
    }
   ],
   "source": [
    "rf.score(X_val, y_val)"
   ]
  },
  {
   "cell_type": "markdown",
   "id": "7f8e25c8",
   "metadata": {},
   "source": [
    "3. Print and clearly label the following: Accuracy, true positive rate, false positive rate, true negative rate, false negative rate, precision, recall, f1-score, and support."
   ]
  },
  {
   "cell_type": "code",
   "execution_count": 51,
   "id": "2be7eecc",
   "metadata": {},
   "outputs": [
    {
     "data": {
      "text/plain": [
       "(382, 2, 23, 216)"
      ]
     },
     "execution_count": 51,
     "metadata": {},
     "output_type": "execute_result"
    }
   ],
   "source": [
    "TN, FP, FN, TP = confusion_matrix(y_train, y_pred).ravel()\n",
    "TN, FP, FN, TP"
   ]
  },
  {
   "cell_type": "code",
   "execution_count": 52,
   "id": "2f8e43d7",
   "metadata": {},
   "outputs": [
    {
     "name": "stdout",
     "output_type": "stream",
     "text": [
      "Tree with max depth of 1\n",
      "                    0           1  accuracy   macro avg  weighted avg\n",
      "precision    0.727447    0.950980  0.764045    0.839214      0.813201\n",
      "recall       0.986979    0.405858  0.764045    0.696418      0.764045\n",
      "f1-score     0.837569    0.568915  0.764045    0.703242      0.734506\n",
      "support    384.000000  239.000000  0.764045  623.000000    623.000000\n",
      "\n",
      "Tree with max depth of 2\n",
      "                    0           1  accuracy   macro avg  weighted avg\n",
      "precision    0.796009    0.854651  0.812199    0.825330      0.818506\n",
      "recall       0.934896    0.615063  0.812199    0.774979      0.812199\n",
      "f1-score     0.859880    0.715328  0.812199    0.787604      0.804426\n",
      "support    384.000000  239.000000  0.812199  623.000000    623.000000\n",
      "\n",
      "Tree with max depth of 3\n",
      "                    0           1  accuracy   macro avg  weighted avg\n",
      "precision    0.830986    0.847716  0.836276    0.839351      0.837404\n",
      "recall       0.921875    0.698745  0.836276    0.810310      0.836276\n",
      "f1-score     0.874074    0.766055  0.836276    0.820065      0.832635\n",
      "support    384.000000  239.000000  0.836276  623.000000    623.000000\n",
      "\n",
      "Tree with max depth of 4\n",
      "                    0           1  accuracy   macro avg  weighted avg\n",
      "precision    0.822581    0.857143  0.833066    0.839862      0.835840\n",
      "recall       0.929688    0.677824  0.833066    0.803756      0.833066\n",
      "f1-score     0.872861    0.757009  0.833066    0.814935      0.828417\n",
      "support    384.000000  239.000000  0.833066  623.000000    623.000000\n",
      "\n",
      "Tree with max depth of 5\n",
      "                    0           1  accuracy   macro avg  weighted avg\n",
      "precision    0.839623    0.859296  0.845907    0.849460      0.847170\n",
      "recall       0.927083    0.715481  0.845907    0.821282      0.845907\n",
      "f1-score     0.881188    0.780822  0.845907    0.831005      0.842685\n",
      "support    384.000000  239.000000  0.845907  623.000000    623.000000\n",
      "\n",
      "Tree with max depth of 6\n",
      "                    0           1  accuracy   macro avg  weighted avg\n",
      "precision    0.863636    0.887805  0.871589    0.875721      0.872908\n",
      "recall       0.940104    0.761506  0.871589    0.850805      0.871589\n",
      "f1-score     0.900249    0.819820  0.871589    0.860035      0.869394\n",
      "support    384.000000  239.000000  0.871589  623.000000    623.000000\n",
      "\n",
      "Tree with max depth of 7\n",
      "                    0           1  accuracy   macro avg  weighted avg\n",
      "precision    0.892344    0.946341  0.910112    0.919343      0.913059\n",
      "recall       0.971354    0.811715  0.910112    0.891535      0.910112\n",
      "f1-score     0.930175    0.873874  0.910112    0.902024      0.908576\n",
      "support    384.000000  239.000000  0.910112  623.000000    623.000000\n",
      "\n",
      "Tree with max depth of 8\n",
      "                    0           1  accuracy   macro avg  weighted avg\n",
      "precision    0.914634    0.957746  0.929374    0.936190      0.931173\n",
      "recall       0.976562    0.853556  0.929374    0.915059      0.929374\n",
      "f1-score     0.944584    0.902655  0.929374    0.923620      0.928499\n",
      "support    384.000000  239.000000  0.929374  623.000000    623.000000\n",
      "\n",
      "Tree with max depth of 9\n",
      "                    0           1  accuracy   macro avg  weighted avg\n",
      "precision    0.931204    0.976852   0.94703    0.954028      0.948716\n",
      "recall       0.986979    0.882845   0.94703    0.934912      0.947030\n",
      "f1-score     0.958281    0.927473   0.94703    0.942877      0.946462\n",
      "support    384.000000  239.000000   0.94703  623.000000    623.000000\n",
      "\n",
      "Tree with max depth of 10\n",
      "                    0           1  accuracy   macro avg  weighted avg\n",
      "precision    0.943210    0.990826  0.959872    0.967018      0.961477\n",
      "recall       0.994792    0.903766  0.959872    0.949279      0.959872\n",
      "f1-score     0.968314    0.945295  0.959872    0.956805      0.959484\n",
      "support    384.000000  239.000000  0.959872  623.000000    623.000000\n",
      "\n",
      "Tree with max depth of 11\n",
      "                    0           1  accuracy   macro avg  weighted avg\n",
      "precision    0.955112    0.995495  0.969502    0.975304      0.970604\n",
      "recall       0.997396    0.924686  0.969502    0.961041      0.969502\n",
      "f1-score     0.975796    0.958785  0.969502    0.967291      0.969270\n",
      "support    384.000000  239.000000  0.969502  623.000000    623.000000\n",
      "\n",
      "Tree with max depth of 12\n",
      "                    0           1  accuracy   macro avg  weighted avg\n",
      "precision    0.967254    1.000000  0.979133    0.983627      0.979817\n",
      "recall       1.000000    0.945607  0.979133    0.972803      0.979133\n",
      "f1-score     0.983355    0.972043  0.979133    0.977699      0.979015\n",
      "support    384.000000  239.000000  0.979133  623.000000    623.000000\n",
      "\n",
      "Tree with max depth of 13\n",
      "                    0           1  accuracy   macro avg  weighted avg\n",
      "precision    0.977099    1.000000  0.985554    0.988550      0.985885\n",
      "recall       1.000000    0.962343  0.985554    0.981172      0.985554\n",
      "f1-score     0.988417    0.980810  0.985554    0.984614      0.985499\n",
      "support    384.000000  239.000000  0.985554  623.000000    623.000000\n",
      "\n",
      "Tree with max depth of 14\n",
      "                    0           1  accuracy   macro avg  weighted avg\n",
      "precision    0.987147    1.000000  0.991974    0.993573      0.992077\n",
      "recall       1.000000    0.979079  0.991974    0.989540      0.991974\n",
      "f1-score     0.993532    0.989429  0.991974    0.991480      0.991958\n",
      "support    384.000000  239.000000  0.991974  623.000000    623.000000\n",
      "\n",
      "Tree with max depth of 15\n",
      "                    0           1  accuracy   macro avg  weighted avg\n",
      "precision    0.992248    1.000000  0.995185    0.996124      0.995222\n",
      "recall       1.000000    0.987448  0.995185    0.993724      0.995185\n",
      "f1-score     0.996109    0.993684  0.995185    0.994897      0.995179\n",
      "support    384.000000  239.000000  0.995185  623.000000    623.000000\n",
      "\n",
      "Tree with max depth of 16\n",
      "               0      1  accuracy  macro avg  weighted avg\n",
      "precision    1.0    1.0       1.0        1.0           1.0\n",
      "recall       1.0    1.0       1.0        1.0           1.0\n",
      "f1-score     1.0    1.0       1.0        1.0           1.0\n",
      "support    384.0  239.0       1.0      623.0         623.0\n",
      "\n",
      "Tree with max depth of 17\n",
      "               0      1  accuracy  macro avg  weighted avg\n",
      "precision    1.0    1.0       1.0        1.0           1.0\n",
      "recall       1.0    1.0       1.0        1.0           1.0\n",
      "f1-score     1.0    1.0       1.0        1.0           1.0\n",
      "support    384.0  239.0       1.0      623.0         623.0\n",
      "\n",
      "Tree with max depth of 18\n",
      "               0      1  accuracy  macro avg  weighted avg\n",
      "precision    1.0    1.0       1.0        1.0           1.0\n",
      "recall       1.0    1.0       1.0        1.0           1.0\n",
      "f1-score     1.0    1.0       1.0        1.0           1.0\n",
      "support    384.0  239.0       1.0      623.0         623.0\n",
      "\n",
      "Tree with max depth of 19\n",
      "               0      1  accuracy  macro avg  weighted avg\n",
      "precision    1.0    1.0       1.0        1.0           1.0\n",
      "recall       1.0    1.0       1.0        1.0           1.0\n",
      "f1-score     1.0    1.0       1.0        1.0           1.0\n",
      "support    384.0  239.0       1.0      623.0         623.0\n",
      "\n",
      "Tree with max depth of 20\n",
      "               0      1  accuracy  macro avg  weighted avg\n",
      "precision    1.0    1.0       1.0        1.0           1.0\n",
      "recall       1.0    1.0       1.0        1.0           1.0\n",
      "f1-score     1.0    1.0       1.0        1.0           1.0\n",
      "support    384.0  239.0       1.0      623.0         623.0\n",
      "\n"
     ]
    }
   ],
   "source": [
    "for i in range(1, 21):\n",
    "    trees = RandomForestClassifier(max_depth=i, random_state=42)\n",
    "    trees = trees.fit(X_train, y_train)\n",
    "    y_preds = trees.predict(X_train)\n",
    "    report = classification_report(y_train, y_preds, output_dict=True)\n",
    "    print(f'Tree with max depth of {i}')\n",
    "    print(pd.DataFrame(report))\n",
    "    print()"
   ]
  },
  {
   "cell_type": "code",
   "execution_count": 53,
   "id": "ecad8d0a",
   "metadata": {},
   "outputs": [
    {
     "data": {
      "text/html": [
       "<div>\n",
       "<style scoped>\n",
       "    .dataframe tbody tr th:only-of-type {\n",
       "        vertical-align: middle;\n",
       "    }\n",
       "\n",
       "    .dataframe tbody tr th {\n",
       "        vertical-align: top;\n",
       "    }\n",
       "\n",
       "    .dataframe thead th {\n",
       "        text-align: right;\n",
       "    }\n",
       "</style>\n",
       "<table border=\"1\" class=\"dataframe\">\n",
       "  <thead>\n",
       "    <tr style=\"text-align: right;\">\n",
       "      <th></th>\n",
       "      <th>max_depth</th>\n",
       "      <th>train_accuracy</th>\n",
       "      <th>validate_accuracy</th>\n",
       "      <th>difference</th>\n",
       "    </tr>\n",
       "  </thead>\n",
       "  <tbody>\n",
       "    <tr>\n",
       "      <th>0</th>\n",
       "      <td>1</td>\n",
       "      <td>0.767255</td>\n",
       "      <td>0.805970</td>\n",
       "      <td>-0.038715</td>\n",
       "    </tr>\n",
       "    <tr>\n",
       "      <th>1</th>\n",
       "      <td>2</td>\n",
       "      <td>0.789727</td>\n",
       "      <td>0.805970</td>\n",
       "      <td>-0.016243</td>\n",
       "    </tr>\n",
       "    <tr>\n",
       "      <th>2</th>\n",
       "      <td>3</td>\n",
       "      <td>0.825040</td>\n",
       "      <td>0.828358</td>\n",
       "      <td>-0.003318</td>\n",
       "    </tr>\n",
       "    <tr>\n",
       "      <th>3</th>\n",
       "      <td>4</td>\n",
       "      <td>0.839486</td>\n",
       "      <td>0.850746</td>\n",
       "      <td>-0.011260</td>\n",
       "    </tr>\n",
       "    <tr>\n",
       "      <th>4</th>\n",
       "      <td>5</td>\n",
       "      <td>0.852327</td>\n",
       "      <td>0.820896</td>\n",
       "      <td>0.031432</td>\n",
       "    </tr>\n",
       "    <tr>\n",
       "      <th>5</th>\n",
       "      <td>6</td>\n",
       "      <td>0.876404</td>\n",
       "      <td>0.820896</td>\n",
       "      <td>0.055509</td>\n",
       "    </tr>\n",
       "    <tr>\n",
       "      <th>6</th>\n",
       "      <td>7</td>\n",
       "      <td>0.911717</td>\n",
       "      <td>0.820896</td>\n",
       "      <td>0.090822</td>\n",
       "    </tr>\n",
       "    <tr>\n",
       "      <th>7</th>\n",
       "      <td>8</td>\n",
       "      <td>0.934189</td>\n",
       "      <td>0.828358</td>\n",
       "      <td>0.105831</td>\n",
       "    </tr>\n",
       "    <tr>\n",
       "      <th>8</th>\n",
       "      <td>9</td>\n",
       "      <td>0.950241</td>\n",
       "      <td>0.783582</td>\n",
       "      <td>0.166659</td>\n",
       "    </tr>\n",
       "    <tr>\n",
       "      <th>9</th>\n",
       "      <td>10</td>\n",
       "      <td>0.964687</td>\n",
       "      <td>0.805970</td>\n",
       "      <td>0.158717</td>\n",
       "    </tr>\n",
       "    <tr>\n",
       "      <th>10</th>\n",
       "      <td>11</td>\n",
       "      <td>0.975923</td>\n",
       "      <td>0.783582</td>\n",
       "      <td>0.192341</td>\n",
       "    </tr>\n",
       "    <tr>\n",
       "      <th>11</th>\n",
       "      <td>12</td>\n",
       "      <td>0.977528</td>\n",
       "      <td>0.798507</td>\n",
       "      <td>0.179021</td>\n",
       "    </tr>\n",
       "    <tr>\n",
       "      <th>12</th>\n",
       "      <td>13</td>\n",
       "      <td>0.987159</td>\n",
       "      <td>0.791045</td>\n",
       "      <td>0.196114</td>\n",
       "    </tr>\n",
       "    <tr>\n",
       "      <th>13</th>\n",
       "      <td>14</td>\n",
       "      <td>0.998395</td>\n",
       "      <td>0.776119</td>\n",
       "      <td>0.222275</td>\n",
       "    </tr>\n",
       "    <tr>\n",
       "      <th>14</th>\n",
       "      <td>15</td>\n",
       "      <td>1.000000</td>\n",
       "      <td>0.791045</td>\n",
       "      <td>0.208955</td>\n",
       "    </tr>\n",
       "    <tr>\n",
       "      <th>15</th>\n",
       "      <td>16</td>\n",
       "      <td>1.000000</td>\n",
       "      <td>0.783582</td>\n",
       "      <td>0.216418</td>\n",
       "    </tr>\n",
       "    <tr>\n",
       "      <th>16</th>\n",
       "      <td>17</td>\n",
       "      <td>1.000000</td>\n",
       "      <td>0.768657</td>\n",
       "      <td>0.231343</td>\n",
       "    </tr>\n",
       "    <tr>\n",
       "      <th>17</th>\n",
       "      <td>18</td>\n",
       "      <td>1.000000</td>\n",
       "      <td>0.776119</td>\n",
       "      <td>0.223881</td>\n",
       "    </tr>\n",
       "    <tr>\n",
       "      <th>18</th>\n",
       "      <td>19</td>\n",
       "      <td>1.000000</td>\n",
       "      <td>0.776119</td>\n",
       "      <td>0.223881</td>\n",
       "    </tr>\n",
       "    <tr>\n",
       "      <th>19</th>\n",
       "      <td>20</td>\n",
       "      <td>1.000000</td>\n",
       "      <td>0.783582</td>\n",
       "      <td>0.216418</td>\n",
       "    </tr>\n",
       "    <tr>\n",
       "      <th>20</th>\n",
       "      <td>21</td>\n",
       "      <td>1.000000</td>\n",
       "      <td>0.783582</td>\n",
       "      <td>0.216418</td>\n",
       "    </tr>\n",
       "    <tr>\n",
       "      <th>21</th>\n",
       "      <td>22</td>\n",
       "      <td>1.000000</td>\n",
       "      <td>0.783582</td>\n",
       "      <td>0.216418</td>\n",
       "    </tr>\n",
       "    <tr>\n",
       "      <th>22</th>\n",
       "      <td>23</td>\n",
       "      <td>1.000000</td>\n",
       "      <td>0.783582</td>\n",
       "      <td>0.216418</td>\n",
       "    </tr>\n",
       "    <tr>\n",
       "      <th>23</th>\n",
       "      <td>24</td>\n",
       "      <td>1.000000</td>\n",
       "      <td>0.783582</td>\n",
       "      <td>0.216418</td>\n",
       "    </tr>\n",
       "  </tbody>\n",
       "</table>\n",
       "</div>"
      ],
      "text/plain": [
       "    max_depth  train_accuracy  validate_accuracy  difference\n",
       "0           1        0.767255           0.805970   -0.038715\n",
       "1           2        0.789727           0.805970   -0.016243\n",
       "2           3        0.825040           0.828358   -0.003318\n",
       "3           4        0.839486           0.850746   -0.011260\n",
       "4           5        0.852327           0.820896    0.031432\n",
       "5           6        0.876404           0.820896    0.055509\n",
       "6           7        0.911717           0.820896    0.090822\n",
       "7           8        0.934189           0.828358    0.105831\n",
       "8           9        0.950241           0.783582    0.166659\n",
       "9          10        0.964687           0.805970    0.158717\n",
       "10         11        0.975923           0.783582    0.192341\n",
       "11         12        0.977528           0.798507    0.179021\n",
       "12         13        0.987159           0.791045    0.196114\n",
       "13         14        0.998395           0.776119    0.222275\n",
       "14         15        1.000000           0.791045    0.208955\n",
       "15         16        1.000000           0.783582    0.216418\n",
       "16         17        1.000000           0.768657    0.231343\n",
       "17         18        1.000000           0.776119    0.223881\n",
       "18         19        1.000000           0.776119    0.223881\n",
       "19         20        1.000000           0.783582    0.216418\n",
       "20         21        1.000000           0.783582    0.216418\n",
       "21         22        1.000000           0.783582    0.216418\n",
       "22         23        1.000000           0.783582    0.216418\n",
       "23         24        1.000000           0.783582    0.216418"
      ]
     },
     "execution_count": 53,
     "metadata": {},
     "output_type": "execute_result"
    }
   ],
   "source": [
    "metrics = []\n",
    "for i in range(1, 25):\n",
    "    tree = RandomForestClassifier(max_depth=i, random_state=123)\n",
    "    tree = tree.fit(X_train, y_train)\n",
    "    in_sample_accuracy = tree.score(X_train, y_train)\n",
    "    out_of_sample_accuracy = tree.score(X_val, y_val)\n",
    "    \n",
    "    output = {'max_depth': i, 'train_accuracy': in_sample_accuracy, 'validate_accuracy': out_of_sample_accuracy}\n",
    "    \n",
    "    metrics.append(output)\n",
    "    \n",
    "    df = pd.DataFrame(metrics)\n",
    "    df['difference'] = df.train_accuracy - df.validate_accuracy\n",
    "df"
   ]
  },
  {
   "cell_type": "code",
   "execution_count": 54,
   "id": "b17e0749",
   "metadata": {},
   "outputs": [
    {
     "data": {
      "image/png": "[encoded data removed]",
      "text/plain": [
       "<Figure size 1200x600 with 1 Axes>"
      ]
     },
     "metadata": {},
     "output_type": "display_data"
    }
   ],
   "source": [
    "plt.figure(figsize=(12,6))\n",
    "plt.plot(df.max_depth, df.train_accuracy, marker = 'o', label='Train')\n",
    "plt.plot(df.max_depth, df.validate_accuracy, marker = 'o', label='Validate')\n",
    "plt.legend()\n",
    "plt.show()"
   ]
  },
  {
   "cell_type": "markdown",
   "id": "105a8297",
   "metadata": {},
   "source": [
    "4. Run through steps increasing your min_samples_leaf and decreasing your max_depth."
   ]
  },
  {
   "cell_type": "code",
   "execution_count": 55,
   "id": "40ea7394",
   "metadata": {},
   "outputs": [],
   "source": [
    "rf = RandomForestClassifier(max_depth=7, random_state=42, min_samples_leaf=4)"
   ]
  },
  {
   "cell_type": "code",
   "execution_count": 56,
   "id": "d18d5c63",
   "metadata": {},
   "outputs": [
    {
     "data": {
      "text/plain": [
       "RandomForestClassifier(max_depth=7, min_samples_leaf=4, random_state=42)"
      ]
     },
     "execution_count": 56,
     "metadata": {},
     "output_type": "execute_result"
    }
   ],
   "source": [
    "rf.fit(X_train, y_train)"
   ]
  },
  {
   "cell_type": "code",
   "execution_count": 65,
   "id": "8d76597a",
   "metadata": {},
   "outputs": [
    {
     "name": "stdout",
     "output_type": "stream",
     "text": [
      "[0.11294958 0.12911506 0.0382431  0.04267329 0.20515993 0.01921715\n",
      " 0.41874382 0.00890033 0.02499774]\n"
     ]
    }
   ],
   "source": [
    "y_pred = rf.predict(X_train)\n",
    "print(rf.feature_importances_)"
   ]
  },
  {
   "cell_type": "code",
   "execution_count": 66,
   "id": "df1bf4d2",
   "metadata": {},
   "outputs": [
    {
     "data": {
      "text/plain": [
       "array([[0.48651236, 0.51348764],\n",
       "       [0.85259667, 0.14740333],\n",
       "       [0.12171144, 0.87828856],\n",
       "       ...,\n",
       "       [0.83212921, 0.16787079],\n",
       "       [0.75120993, 0.24879007],\n",
       "       [0.14554056, 0.85445944]])"
      ]
     },
     "execution_count": 66,
     "metadata": {},
     "output_type": "execute_result"
    }
   ],
   "source": [
    "y_pred_proba = rf.predict_proba(X_train)\n",
    "y_pred_proba"
   ]
  },
  {
   "cell_type": "code",
   "execution_count": 67,
   "id": "36c3b60c",
   "metadata": {},
   "outputs": [
    {
     "name": "stdout",
     "output_type": "stream",
     "text": [
      "Accuracy of random forest classifier on training set: 0.87\n"
     ]
    }
   ],
   "source": [
    "print('Accuracy of random forest classifier on training set: {:.2f}'\n",
    "     .format(rf.score(X_train, y_train)))"
   ]
  },
  {
   "cell_type": "code",
   "execution_count": 68,
   "id": "33874d60",
   "metadata": {},
   "outputs": [
    {
     "name": "stdout",
     "output_type": "stream",
     "text": [
      "[[362  22]\n",
      " [ 60 179]]\n"
     ]
    }
   ],
   "source": [
    "print(confusion_matrix(y_train, y_pred))"
   ]
  },
  {
   "cell_type": "code",
   "execution_count": 69,
   "id": "3012d7cf",
   "metadata": {},
   "outputs": [
    {
     "name": "stdout",
     "output_type": "stream",
     "text": [
      "              precision    recall  f1-score   support\n",
      "\n",
      "           0       0.86      0.94      0.90       384\n",
      "           1       0.89      0.75      0.81       239\n",
      "\n",
      "    accuracy                           0.87       623\n",
      "   macro avg       0.87      0.85      0.86       623\n",
      "weighted avg       0.87      0.87      0.87       623\n",
      "\n"
     ]
    }
   ],
   "source": [
    "print(classification_report(y_train, y_pred))"
   ]
  },
  {
   "cell_type": "code",
   "execution_count": 70,
   "id": "874e94f1",
   "metadata": {},
   "outputs": [
    {
     "name": "stdout",
     "output_type": "stream",
     "text": [
      "Accuracy of random forest classifier on test set: 0.84\n"
     ]
    }
   ],
   "source": [
    "print('Accuracy of random forest classifier on test set: {:.2f}'\n",
    "     .format(rf.score(X_val, y_val)))"
   ]
  },
  {
   "cell_type": "code",
   "execution_count": 71,
   "id": "958df259",
   "metadata": {},
   "outputs": [
    {
     "data": {
      "text/plain": [
       "0.8683788121990369"
      ]
     },
     "execution_count": 71,
     "metadata": {},
     "output_type": "execute_result"
    }
   ],
   "source": [
    "rf.score(X_train, y_train)"
   ]
  },
  {
   "cell_type": "code",
   "execution_count": 72,
   "id": "7579c41e",
   "metadata": {},
   "outputs": [
    {
     "data": {
      "text/plain": [
       "0.835820895522388"
      ]
     },
     "execution_count": 72,
     "metadata": {},
     "output_type": "execute_result"
    }
   ],
   "source": [
    "rf.score(X_val, y_val)"
   ]
  },
  {
   "cell_type": "markdown",
   "id": "17a781c2",
   "metadata": {},
   "source": [
    "5. What are the differences in the evaluation metrics? Which performs better on your in-sample data? Why?"
   ]
  },
  {
   "cell_type": "markdown",
   "id": "85db0c0a",
   "metadata": {},
   "source": [
    "A. The accuracy for the first model has a .96 on training and .79 on testing, with a .17 difference. The second model has an accuracy of .87 training and .84 testing, with a .03 difference. The first model performs better based on a .95 train vs a train of .86 on the second model. "
   ]
  },
  {
   "cell_type": "markdown",
   "id": "07bcc341",
   "metadata": {},
   "source": [
    "After making a few models, which one has the best performance (or closest metrics) on both train and validate?"
   ]
  },
  {
   "cell_type": "markdown",
   "id": "189a7331",
   "metadata": {},
   "source": [
    "A. Based on a difference between .17 on the first model and a .03 on the second model, the second model has the best performance. However, a max depth of three with a .003 difference has the closest metrics and will likely produce the best performance.\n",
    "\n"
   ]
  },
  {
   "cell_type": "code",
   "execution_count": null,
   "id": "25a65bb2",
   "metadata": {},
   "outputs": [],
   "source": []
  }
 ],
 "metadata": {
  "kernelspec": {
   "display_name": "Python 3 (ipykernel)",
   "language": "python",
   "name": "python3"
  },
  "language_info": {
   "codemirror_mode": {
    "name": "ipython",
    "version": 3
   },
   "file_extension": ".py",
   "mimetype": "text/x-python",
   "name": "python",
   "nbconvert_exporter": "python",
   "pygments_lexer": "ipython3",
   "version": "3.9.13"
  }
 },
 "nbformat": 4,
 "nbformat_minor": 5
}
